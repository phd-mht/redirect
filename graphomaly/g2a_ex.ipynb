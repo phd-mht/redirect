{
 "cells": [
  {
   "cell_type": "code",
   "execution_count": 1,
   "id": "c689a5ee-f2ee-4262-a575-8e7c1f681506",
   "metadata": {},
   "outputs": [],
   "source": [
    "# ! pip install igraph\n",
    "# ! pip install graphomaly"
   ]
  },
  {
   "cell_type": "code",
   "execution_count": 2,
   "id": "9ddb908e",
   "metadata": {},
   "outputs": [],
   "source": [
    "import igraph as ig\n",
    "import pandas as pd\n",
    "import numpy as np\n",
    "from graphomaly.estimator import GraphomalyEstimator\n",
    "from sklearn.ensemble import IsolationForest"
   ]
  },
  {
   "cell_type": "code",
   "execution_count": 3,
   "id": "36e9110b-4209-49e7-a601-b04cbdffe1a6",
   "metadata": {},
   "outputs": [
    {
     "name": "stdout",
     "output_type": "stream",
     "text": [
      "Number of abnormal/total edges: 444/597165\n",
      "Number of abnormal/total nodes: 561/385100\n"
     ]
    }
   ],
   "source": [
    "graph_file_name = \"data.csv\"  # let's say that the file is in the current directory\n",
    "data = pd.read_csv(graph_file_name)  # read graph as dataframe\n",
    "G = data.to_numpy()     # convert to numpy array\n",
    "y_edges = G[:,4]     # last column of G contains edge labels\n",
    "\n",
    "n_edges = G.shape[0]                # number of edges\n",
    "n_nodes = np.unique(G[:,0:2]).size  # number of nodes\n",
    "n_abnormal_edges = np.count_nonzero(y_edges)          # number of abnormal edges\n",
    "n_abnormal_nodes = np.unique(G[y_edges==1,0:2]).size  # number of abnormal nodes\n",
    "print(\"Number of abnormal/total edges: \", n_abnormal_edges, '/', n_edges, sep='')\n",
    "print(\"Number of abnormal/total nodes: \", n_abnormal_nodes, '/', n_nodes, sep='')"
   ]
  },
  {
   "cell_type": "code",
   "execution_count": 4,
   "id": "3a610a5b-6881-406a-8da9-716c6cd59629",
   "metadata": {},
   "outputs": [],
   "source": [
    "nodes_data = pd.DataFrame(\n",
    "    sorted(set(data[\"id_source\"].tolist() + data[\"id_destination\"].tolist())),\n",
    "    columns=[\"id\"]\n",
    ")"
   ]
  },
  {
   "cell_type": "code",
   "execution_count": 5,
   "id": "6f496c80",
   "metadata": {},
   "outputs": [],
   "source": [
    "contamination_rate = n_abnormal_nodes / n_nodes\n",
    "type_feats = \"graph_to_features\"  # this is the transformation we want\n",
    "egonet_args = {             # egonet parameters\n",
    "    \"ctor_args\": {\n",
    "        \"verbose\": True,    # to see something during the computation\n",
    "    },\n",
    "    \"fit_args\": {\n",
    "        \"feature_list\": [   # this feature list is just an example, not necessarily the best\n",
    "            \"f_degree_in\",\n",
    "            \"f_degree_out\",\n",
    "            \"f_amount_in\",\n",
    "            \"f_amount_out\",\n",
    "            \"f_ego_edge_density\",\n",
    "            \"f_egored_average_amount_in_rel\",\n",
    "            \"f_egored_average_amount_out_rel\",\n",
    "            \"f_egored_edge_density\",\n",
    "        ],\n",
    "    },\n",
    "}\n",
    "\n",
    "to_feature_args = {         # put everything together\n",
    "    \"graph_algorithms\": [\"egonet\"],\n",
    "    \"graph_algorithms_args\": [egonet_args],\n",
    "}\n",
    "\n",
    "fit_kwargs = {\n",
    "        'PyodIForest': {\n",
    "            'n_estimators': [50, 100, 200],\n",
    "            'bootstrap': [True, False],\n",
    "            'contamination': [contamination_rate],\n",
    "        },\n",
    "}"
   ]
  },
  {
   "cell_type": "code",
   "execution_count": 6,
   "id": "79256f51",
   "metadata": {},
   "outputs": [
    {
     "name": "stdout",
     "output_type": "stream",
     "text": [
      "Graph info: DiGraph with 385100 nodes and 597165 edges\n",
      "Nodes processed: 385100\n",
      "CPU times: user 10min 52s, sys: 3.34 s, total: 10min 55s\n",
      "Wall time: 10min 55s\n"
     ]
    }
   ],
   "source": [
    "%%time\n",
    "\n",
    "clf = GraphomalyEstimator(models_subset=[\"PyodIForest\"],\n",
    "                          models_ctor_kwargs={},\n",
    "                          models_fit_kwargs=fit_kwargs,\n",
    "                          results_path=\"results\",\n",
    "                          voting=\"hard\",\n",
    "                         )\n",
    "\n",
    "# Compute features and node labels\n",
    "Xf, y_nodes, _ = clf.preprocess(G, y_edges, type_feats, **to_feature_args)"
   ]
  },
  {
   "cell_type": "code",
   "execution_count": 7,
   "id": "6c0d5572-0b20-49c2-bf61-42420a6fba36",
   "metadata": {},
   "outputs": [],
   "source": [
    "nodes_data.loc[:, \"label\"] = y_nodes\n",
    "ego = data.groupby(\"id_source\").agg(ego=(\"id_destination\", set)).join(\n",
    "    data.groupby(\"id_destination\").agg(ego=(\"id_source\", set)),\n",
    "    how=\"outer\", lsuffix=\"_left\"\n",
    ")\n",
    "ego[\"ego_c1\"] = ego[\"ego_left\"].combine_first(ego[\"ego\"])\n",
    "ego[\"ego_c2\"] = ego[\"ego\"].combine_first(ego[\"ego_left\"])\n",
    "del ego[\"ego\"]\n",
    "ego.loc[:, \"ego\"] = ego.apply(lambda x: x[\"ego_c1\"] | x[\"ego_c2\"], axis=1)\n",
    "ego = ego.reset_index().loc[:, [\"ego\"]]\n",
    "ego.index.name = \"id\""
   ]
  },
  {
   "cell_type": "code",
   "execution_count": 8,
   "id": "517a85c0-21ba-4ecc-b27f-0f9febfa9a53",
   "metadata": {},
   "outputs": [],
   "source": [
    "graph = ig.Graph.DataFrame(data.loc[:, [\"id_source\", \"id_destination\"]], use_vids=True, directed=True)"
   ]
  },
  {
   "cell_type": "code",
   "execution_count": 9,
   "id": "df2fe4b7-a305-4456-bfeb-593bc89e99fb",
   "metadata": {},
   "outputs": [
    {
     "name": "stdout",
     "output_type": "stream",
     "text": [
      "CPU times: user 22.3 s, sys: 29.3 s, total: 51.6 s\n",
      "Wall time: 51.6 s\n"
     ]
    }
   ],
   "source": [
    "%%time\n",
    "\n",
    "ego_red_sizes = {}\n",
    "for group, ego_data in ego[[\"ego\"]].iterrows():\n",
    "    sg = graph.induced_subgraph(set([group]).union(ego_data[\"ego\"]))\n",
    "    degrees = [sum(x) for x in zip(sg.degree(mode=\"in\"), sg.degree(mode=\"out\"))]\n",
    "    ego_red_sizes[group] = len([x for x in degrees if x > 1]) or 1\n",
    "\n",
    "nodes_data.loc[:, \"ego_red_size\"] = nodes_data[\"id\"].apply(lambda x: ego_red_sizes[x])"
   ]
  },
  {
   "cell_type": "code",
   "execution_count": 10,
   "id": "bc6fcb51-5704-4b43-abea-7d8283d7f6ab",
   "metadata": {},
   "outputs": [],
   "source": [
    "model = IsolationForest(n_estimators=200)\n",
    "anomalies = nodes_data.copy(deep=True)\n",
    "anomalies.loc[:, \"anomaly_score\"] = model.fit(Xf).decision_function(Xf)\n",
    "anomalies = anomalies.sort_values(\"anomaly_score\", ascending=True)"
   ]
  },
  {
   "cell_type": "code",
   "execution_count": 11,
   "id": "aa45381b-2da1-4621-bff7-31ac283fcf92",
   "metadata": {},
   "outputs": [
    {
     "data": {
      "text/plain": [
       "np.float64(12.405)"
      ]
     },
     "execution_count": 11,
     "metadata": {},
     "output_type": "execute_result"
    }
   ],
   "source": [
    "anomalies[anomalies[\"label\"] == 1][\"ego_red_size\"].mean()"
   ]
  },
  {
   "cell_type": "code",
   "execution_count": 12,
   "id": "32089fe7-3f7e-470c-9ba2-4d53fb250571",
   "metadata": {},
   "outputs": [
    {
     "name": "stdout",
     "output_type": "stream",
     "text": [
      "385 102.839\n",
      "770 67.245\n",
      "1926 37.618\n",
      "3851 23.593\n"
     ]
    }
   ],
   "source": [
    "for top in [385, 770, 1926, 3851]:\n",
    "    print(top, round(anomalies.head(top)[\"ego_red_size\"].mean(), 3))"
   ]
  }
 ],
 "metadata": {
  "kernelspec": {
   "display_name": "Python 3 (ipykernel)",
   "language": "python",
   "name": "python3"
  },
  "language_info": {
   "codemirror_mode": {
    "name": "ipython",
    "version": 3
   },
   "file_extension": ".py",
   "mimetype": "text/x-python",
   "name": "python",
   "nbconvert_exporter": "python",
   "pygments_lexer": "ipython3",
   "version": "3.12.7"
  }
 },
 "nbformat": 4,
 "nbformat_minor": 5
}
