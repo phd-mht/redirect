{
 "cells": [
  {
   "cell_type": "markdown",
   "id": "c949a975-6aac-497b-9680-8b708973d3db",
   "metadata": {},
   "source": [
    "### https://ieeexplore.ieee.org/stamp/stamp.jsp?tp=&arnumber=9762926"
   ]
  },
  {
   "cell_type": "code",
   "execution_count": 1,
   "id": "fd66cc69",
   "metadata": {},
   "outputs": [],
   "source": [
    "import json\n",
    "import random\n",
    "import os\n",
    "import pickle\n",
    "import time\n",
    "import shutil\n",
    "import sys\n",
    "import uuid\n",
    "from collections import defaultdict\n",
    "from datetime import timedelta\n",
    "from glob import glob\n",
    "from itertools import product\n",
    "from pyspark.sql import functions as sf\n",
    "from pyspark import SparkConf\n",
    "from pyspark.sql import SparkSession\n",
    "from pyspark.storagelevel import StorageLevel\n",
    "from sklearn.ensemble import IsolationForest\n",
    "from sklearn.metrics import roc_auc_score\n",
    "\n",
    "import igraph as ig\n",
    "import leidenalg as la\n",
    "import numpy as np\n",
    "import pandas as pd\n",
    "\n",
    "import settings as s\n",
    "from common import get_weights\n",
    "from communities import get_communities_spark\n",
    "from features import generate_features_spark, generate_features_udf_wrapper, SCHEMA_FEAT_UDF\n",
    "\n",
    "%load_ext autoreload\n",
    "%autoreload 2"
   ]
  },
  {
   "cell_type": "code",
   "execution_count": 2,
   "id": "b78718f0-7f15-4c1f-963f-bd160efec0cb",
   "metadata": {},
   "outputs": [],
   "source": [
    "if (\n",
    "    sys.version_info.major,\n",
    "    sys.version_info.minor,\n",
    "    sys.version_info.micro,\n",
    ") != (3, 11, 8):\n",
    "    raise EnvironmentError(\n",
    "        \"Only runs efficiently on Python 3.11.8 (Tested on: Conda 24.1.2 | Apple M3 Pro)\"\n",
    "    )"
   ]
  },
  {
   "cell_type": "code",
   "execution_count": 3,
   "id": "285f2aef-e6d2-48b2-b720-a02710e4e26f",
   "metadata": {},
   "outputs": [
    {
     "name": "stderr",
     "output_type": "stream",
     "text": [
      "WARNING: Using incubator modules: jdk.incubator.vector\n",
      "Using Spark's default log4j profile: org/apache/spark/log4j2-defaults.properties\n",
      "Setting default log level to \"WARN\".\n",
      "To adjust logging level use sc.setLogLevel(newLevel). For SparkR, use setLogLevel(newLevel).\n",
      "25/07/29 00:34:04 WARN NativeCodeLoader: Unable to load native-hadoop library for your platform... using builtin-java classes where applicable\n",
      "25/07/29 00:34:05 WARN Utils: Service 'SparkUI' could not bind on port 4040. Attempting port 4041.\n"
     ]
    }
   ],
   "source": [
    "SPARK_CONF = [\n",
    "    (\"spark.driver.memory\", \"32g\"),\n",
    "    (\"spark.worker.memory\", \"32g\"),\n",
    "    (\"spark.driver.maxResultSize\", \"32g\"),\n",
    "    (\"spark.driver.bindAddress\", \"127.0.0.1\"),\n",
    "    (\"spark.sql.execution.arrow.pyspark.enabled\", \"true\"),\n",
    "    (\"spark.network.timeout\", \"600s\"),\n",
    "    (\"spark.sql.autoBroadcastJoinThreshold\", -1)\n",
    "]\n",
    "\n",
    "shutil.rmtree(\"artifacts\", ignore_errors=True)\n",
    "spark = (\n",
    "    SparkSession.builder.appName(\"testing\")\n",
    "    .config(conf=SparkConf().setAll(SPARK_CONF))\n",
    "    .getOrCreate()\n",
    ")"
   ]
  },
  {
   "cell_type": "code",
   "execution_count": 4,
   "id": "a2442c15",
   "metadata": {},
   "outputs": [],
   "source": [
    "data = pd.read_csv(\"./data/Libra_bank_3months_graph/data.csv\")\n",
    "rename = {\n",
    "    \"id_source\": \"source\",\n",
    "    \"id_destination\": \"target\",\n",
    "    \"cum_amount\": \"amount\",\n",
    "    \"nr_transactions\": \"num_transactions\",\n",
    "    \"nr_alerts\": \"alerts_count\",\n",
    "    \"nr_reports\": \"reports_count\",\n",
    "}\n",
    "\n",
    "data = data.rename(columns=rename)\n",
    "data.loc[:, \"source_\"] = (\n",
    "    data.loc[:, \"source\"].astype(str).apply(lambda x: f\"nid-{int(x)}\")\n",
    ")\n",
    "data.loc[:, \"target_\"] = (\n",
    "    data.loc[:, \"target\"].astype(str).apply(lambda x: f\"nid-{int(x)}\")\n",
    ")\n",
    "del data[\"source\"]\n",
    "del data[\"target\"]\n",
    "data = data.rename(\n",
    "    columns={\n",
    "        \"source_\": \"source\",\n",
    "        \"target_\": \"target\",\n",
    "    }\n",
    ").loc[:, [\"source\", \"target\", \"amount\", \"num_transactions\", \"alerts_count\", \"reports_count\"]]"
   ]
  },
  {
   "cell_type": "code",
   "execution_count": 5,
   "id": "dab14662-5706-45b2-a53b-29b8b0b66760",
   "metadata": {},
   "outputs": [],
   "source": [
    "nodes_data = pd.DataFrame(index=sorted(set(data[\"source\"].tolist() + data[\"target\"].tolist())))\n",
    "nodes_data.index.name = \"key\"\n",
    "\n",
    "w_alerts = int(data[\"alerts_count\"].sum() * 2)\n",
    "w_reports = int(data[\"reports_count\"].sum() * 2)\n",
    "\n",
    "w_alerts_source = data[data[\"alerts_count\"] > 0].groupby(\"source\").agg({\"alerts_count\": \"sum\"}).to_dict()[\"alerts_count\"]\n",
    "w_alerts_target = data[data[\"alerts_count\"] > 0].groupby(\"target\").agg({\"alerts_count\": \"sum\"}).to_dict()[\"alerts_count\"]\n",
    "\n",
    "w_reports_source = data[data[\"reports_count\"] > 0].groupby(\"source\").agg({\"reports_count\": \"sum\"}).to_dict()[\"reports_count\"]\n",
    "w_reports_target = data[data[\"reports_count\"] > 0].groupby(\"target\").agg({\"reports_count\": \"sum\"}).to_dict()[\"reports_count\"]\n",
    "\n",
    "nodes_data.loc[:, \"alert_weight\"] = nodes_data.index.map(\n",
    "    lambda x: (w_alerts_source.get(x, 0) + w_alerts_target.get(x, 0)) / w_alerts\n",
    ")\n",
    "nodes_data.loc[:, \"report_weight\"] = nodes_data.index.map(\n",
    "    lambda x: (w_reports_source.get(x, 0) + w_reports_target.get(x, 0)) / w_reports\n",
    ")\n",
    "alerted_nodes = set(nodes_data[nodes_data[\"alert_weight\"] > 0].index)"
   ]
  },
  {
   "cell_type": "code",
   "execution_count": 6,
   "id": "8c6f09fa-58c6-4f8e-9804-1521ce72d70e",
   "metadata": {},
   "outputs": [
    {
     "name": "stdout",
     "output_type": "stream",
     "text": [
      "385100 385 770 1926 3851\n"
     ]
    }
   ],
   "source": [
    "total_nodes = nodes_data.shape[0]\n",
    "perc_point_1_cnt = round(total_nodes * (0.1 / 100))\n",
    "perc_point_2_cnt = round(total_nodes * (0.2 / 100))\n",
    "perc_point_5_cnt = round(total_nodes * (0.5 / 100))\n",
    "perc_1_cnt = round(total_nodes * (1 / 100))\n",
    "perc_10_cnt = round(total_nodes * (10 / 100))\n",
    "perc_20_cnt = round(total_nodes * (20 / 100))\n",
    "perc_30_cnt = round(total_nodes * (30 / 100))\n",
    "perc_40_cnt = round(total_nodes * (40 / 100))\n",
    "perc_50_cnt = round(total_nodes * (50 / 100))\n",
    "perc_75_cnt = round(total_nodes * (75 / 100))\n",
    "print(total_nodes, perc_point_1_cnt, perc_point_2_cnt, perc_point_5_cnt, perc_1_cnt)"
   ]
  },
  {
   "cell_type": "code",
   "execution_count": 7,
   "id": "d9d97715-df7d-4577-b17c-522b1ac47c61",
   "metadata": {},
   "outputs": [],
   "source": [
    "graph_global = ig.Graph.DataFrame(data[[\"source\", \"target\"]], use_vids=False, directed=True)"
   ]
  },
  {
   "cell_type": "code",
   "execution_count": 8,
   "id": "f9fd627e-465e-4030-bda7-4c9fd9b96a1a",
   "metadata": {},
   "outputs": [
    {
     "name": "stdout",
     "output_type": "stream",
     "text": [
      "CPU times: user 20.6 s, sys: 11.5 s, total: 32.2 s\n",
      "Wall time: 32.2 s\n"
     ]
    }
   ],
   "source": [
    "%%time\n",
    "\n",
    "communities_egonet_red = []\n",
    "for node in [x[\"name\"] for x in graph_global.vs()]:\n",
    "    neighborhood = graph_global.neighborhood(node, order=1, mode=\"all\", mindist=0)\n",
    "    sub_g = graph_global.induced_subgraph(neighborhood)\n",
    "    names = [x[\"name\"] for x in sub_g.vs()]\n",
    "    communities_egonet_red.append((node, {x for x, y in zip(names, sub_g.degree(mode=\"all\")) if y > 1} | {node}))\n",
    "sizes_egonet_red = [len(x[1]) for x in communities_egonet_red]\n",
    "sizes_egonet_red_alerted = [len(x[1]) for x in communities_egonet_red if alerted_nodes.intersection({x[0]})]"
   ]
  },
  {
   "cell_type": "code",
   "execution_count": 9,
   "id": "92e2f8d1-77e5-4343-99ce-5f392b4b4b60",
   "metadata": {},
   "outputs": [
    {
     "name": "stderr",
     "output_type": "stream",
     "text": [
      "25/07/27 17:09:20 WARN TaskSetManager: Stage 0 contains a task of very large size (3851 KiB). The maximum recommended task size is 1000 KiB.\n",
      "                                                                                "
     ]
    },
    {
     "name": "stdout",
     "output_type": "stream",
     "text": [
      "\n",
      "Processing comm_as_source\n",
      "\n",
      "Processed hop #1 | 472,592 | 213,511\n",
      "Processed hop #2 | 6,730,058 | 194,847\n",
      "Processed hop #3 | 7,805,533 | 186,398\n",
      "Processed hop #4 | 8,894,931 | 185,538\n",
      "Processed hop #5 | 8,889,368 | 185,321\n",
      "\n",
      "Processing comm_as_target\n",
      "\n",
      "Processed hop #1 | 414,376 | 221,458\n",
      "Processed hop #2 | 6,111,806 | 201,104\n",
      "Processed hop #3 | 7,163,788 | 188,404\n",
      "Processed hop #4 | 8,469,276 | 186,909\n",
      "Processed hop #5 | 8,208,835 | 183,360\n",
      "\n",
      "Processing comm_as_passthrough\n",
      "\n",
      "Processed hop #1 | 251,417 | 49,869\n",
      "Processed hop #2 | 1,310,227 | 42,290\n",
      "Processed hop #3 | 1,725,981 | 40,671\n",
      "Processed hop #4 | 1,918,895 | 40,412\n",
      "Processed hop #5 | 1,952,010 | 40,363\n",
      "\n",
      "Processing comm_as_passthrough_reverse\n",
      "\n",
      "Processed hop #1 | 197,559 | 49,869\n",
      "Processed hop #2 | 1,081,845 | 41,267\n",
      "Processed hop #3 | 1,434,805 | 38,874\n",
      "Processed hop #4 | 1,719,403 | 38,462\n",
      "Processed hop #5 | 1,722,034 | 38,030\n",
      "\n",
      "\n",
      "comm_as_source_features\n",
      "\n",
      "CPU times: user 32.1 s, sys: 356 ms, total: 32.4 s\n",
      "Wall time: 32.5 s\n",
      "\n",
      "comm_as_target_features\n",
      "\n",
      "CPU times: user 31.9 s, sys: 137 ms, total: 32.1 s\n",
      "Wall time: 32.1 s\n",
      "\n",
      "comm_as_passthrough_features\n",
      "\n",
      "CPU times: user 7.26 s, sys: 42.7 ms, total: 7.3 s\n",
      "Wall time: 7.31 s\n",
      "\n",
      "comm_as_passthrough_features_reverse\n",
      "\n",
      "CPU times: user 6.72 s, sys: 44.7 ms, total: 6.76 s\n",
      "Wall time: 6.76 s\n",
      "\n",
      "\n",
      "CPU times: user 7min 49s, sys: 35.7 s, total: 8min 25s\n",
      "Wall time: 8min 30s\n",
      "Constructing Leiden communities\n",
      "CPU times: user 3min 55s, sys: 1.89 s, total: 3min 57s\n",
      "Wall time: 3min 57s\n",
      "Constructing 1-hop communities\n"
     ]
    },
    {
     "name": "stderr",
     "output_type": "stream",
     "text": [
      "                                                                                "
     ]
    },
    {
     "name": "stdout",
     "output_type": "stream",
     "text": [
      "CPU times: user 1.72 s, sys: 83.6 ms, total: 1.8 s\n",
      "Wall time: 25.9 s\n",
      "Leiden communitites features creation\n"
     ]
    },
    {
     "name": "stderr",
     "output_type": "stream",
     "text": [
      "                                                                                "
     ]
    },
    {
     "name": "stdout",
     "output_type": "stream",
     "text": [
      "CPU times: user 5.02 s, sys: 515 ms, total: 5.53 s\n",
      "Wall time: 38.6 s\n",
      "1-hop communitites features creation\n"
     ]
    },
    {
     "name": "stderr",
     "output_type": "stream",
     "text": [
      "                                                                                "
     ]
    },
    {
     "name": "stdout",
     "output_type": "stream",
     "text": [
      "CPU times: user 2min 14s, sys: 23.5 s, total: 2min 38s\n",
      "Wall time: 5min 25s\n",
      "1-hop-source features creation\n"
     ]
    },
    {
     "name": "stderr",
     "output_type": "stream",
     "text": [
      "25/07/27 17:28:17 WARN TaskSetManager: Stage 12 contains a task of very large size (6867 KiB). The maximum recommended task size is 1000 KiB.\n",
      "                                                                                "
     ]
    },
    {
     "name": "stdout",
     "output_type": "stream",
     "text": [
      "CPU times: user 1.67 s, sys: 240 ms, total: 1.91 s\n",
      "Wall time: 1min 15s\n",
      "1-hop-target features creation\n"
     ]
    },
    {
     "name": "stderr",
     "output_type": "stream",
     "text": [
      "25/07/27 17:29:32 WARN TaskSetManager: Stage 15 contains a task of very large size (6961 KiB). The maximum recommended task size is 1000 KiB.\n",
      "                                                                                "
     ]
    },
    {
     "name": "stdout",
     "output_type": "stream",
     "text": [
      "CPU times: user 1.71 s, sys: 212 ms, total: 1.92 s\n",
      "Wall time: 1min 18s\n",
      "Features: (385100, 176)\n",
      "Deleted 10 constant columns\n",
      "Script executed in 0:21:38\n",
      "Training the model\n",
      "CPU times: user 11min 11s, sys: 50.5 s, total: 12min 1s\n",
      "Wall time: 12min 3s\n",
      "CPU times: user 25min 29s, sys: 1min 53s, total: 27min 23s\n",
      "Wall time: 33min 45s\n"
     ]
    }
   ],
   "source": [
    "%%time\n",
    "\n",
    "candidates = nodes_data.index.tolist()\n",
    "data_in_scope = data.copy(deep=True)\n",
    "data_in_scope = data_in_scope.set_index([\"source\", \"target\"]).join(\n",
    "    get_weights(data_in_scope).set_index([\"source\", \"target\"]), how=\"left\"\n",
    ").reset_index()\n",
    "data_in_scope.loc[:, \"amount_weighted\"] = (\n",
    "    data_in_scope.loc[:, \"amount\"] * \n",
    "    (data_in_scope.loc[:, \"weight\"] / data_in_scope.loc[:, \"weight\"].max())\n",
    ")\n",
    "\n",
    "%run model.ipynb\n",
    "\n",
    "anomalies_main = anomalies.copy(deep=True)"
   ]
  },
  {
   "cell_type": "code",
   "execution_count": 10,
   "id": "d8fbe31b-5c86-4bf0-aac0-f02144940b40",
   "metadata": {},
   "outputs": [],
   "source": [
    "def add_predicted_alert_weight(anomalies_input, perc_count_in):\n",
    "    anomalies_perc_x = anomalies_input.copy(deep=True)\n",
    "    index = anomalies_perc_x.head(perc_count_in).index.tolist()\n",
    "    anomalies_perc_x = anomalies_perc_x.loc[index, :]\n",
    "    anomalies_perc_x.loc[:, \"predicted_alert_weight\"] = anomalies_perc_x.loc[:, \"alert_weight\"]\n",
    "    anomalies_perc_x.loc[:, \"predicted_report_weight\"] = anomalies_perc_x.loc[:, \"report_weight\"]\n",
    "    return anomalies_perc_x"
   ]
  },
  {
   "cell_type": "code",
   "execution_count": 11,
   "id": "d29c8983-063c-4fbe-8052-f1352de5772f",
   "metadata": {},
   "outputs": [],
   "source": [
    "communities_1_hop_dict = dict(communities_1_hop)\n",
    "\n",
    "comms_1_hop_0_1_perc = [communities_1_hop_dict[x] for x in add_predicted_alert_weight(anomalies_main, perc_point_1_cnt).index]\n",
    "comms_1_hop_0_2_perc = [communities_1_hop_dict[x] for x in add_predicted_alert_weight(anomalies_main, perc_point_2_cnt).index]\n",
    "comms_1_hop_0_5_perc = [communities_1_hop_dict[x] for x in add_predicted_alert_weight(anomalies_main, perc_point_5_cnt).index]\n",
    "comms_1_hop_1_perc = [communities_1_hop_dict[x] for x in add_predicted_alert_weight(anomalies_main, perc_1_cnt).index]\n",
    "\n",
    "sizes_1_hop_0_1_perc = [len(x) for x in comms_1_hop_0_1_perc]\n",
    "sizes_1_hop_0_2_perc = [len(x) for x in comms_1_hop_0_2_perc]\n",
    "sizes_1_hop_0_5_perc = [len(x) for x in comms_1_hop_0_5_perc]\n",
    "sizes_1_hop_1_perc = [len(x) for x in comms_1_hop_1_perc]\n",
    "\n",
    "sizes_edge_1_hop_0_1_perc = [graph_global.induced_subgraph(x).ecount() for x in comms_1_hop_0_1_perc]\n",
    "sizes_edge_1_hop_0_2_perc = [graph_global.induced_subgraph(x).ecount() for x in comms_1_hop_0_2_perc]\n",
    "sizes_edge_1_hop_0_5_perc = [graph_global.induced_subgraph(x).ecount() for x in comms_1_hop_0_5_perc]\n",
    "sizes_edge_1_hop_1_perc = [graph_global.induced_subgraph(x).ecount() for x in comms_1_hop_1_perc]\n",
    "\n",
    "tpr = np.cumsum(add_predicted_alert_weight(anomalies_main, perc_1_cnt)[\"predicted_alert_weight\"]).values\n",
    "tpr_report = np.cumsum(add_predicted_alert_weight(anomalies_main, perc_1_cnt)[\"predicted_report_weight\"]).values\n",
    "\n",
    "results = [{\n",
    "    \"rectify_perc\": 1.0,\n",
    "    \"sizes_egonet_red_alerted\": sizes_egonet_red_alerted,\n",
    "    \"sizes_1_hop_alerted\": sizes_1_hop_alerted,\n",
    "    \"leiden_size_max\": np.max(sizes_leiden),\n",
    "    \"leiden_size_mean\": np.mean(sizes_leiden),\n",
    "    \"leiden_size_median\": np.median(sizes_leiden),\n",
    "    \"1_hop_size_max\": np.max(sizes_1_hop),\n",
    "    \"1_hop_size_mean\": np.mean(sizes_1_hop),\n",
    "    \"1_hop_size_median\": np.median(sizes_1_hop),\n",
    "    \"0.1%\": add_predicted_alert_weight(anomalies_main, perc_point_1_cnt)[\"predicted_alert_weight\"].sum(),\n",
    "    \"0.2%\": add_predicted_alert_weight(anomalies_main, perc_point_2_cnt)[\"predicted_alert_weight\"].sum(),\n",
    "    \"0.5%\": add_predicted_alert_weight(anomalies_main, perc_point_5_cnt)[\"predicted_alert_weight\"].sum(),\n",
    "    \"1%\": add_predicted_alert_weight(anomalies_main, perc_1_cnt)[\"predicted_alert_weight\"].sum(),\n",
    "    \"tpr_1%\": tpr,\n",
    "    \"tpr_auc_1%\": np.mean(tpr),\n",
    "    \"report_0.1%\": add_predicted_alert_weight(anomalies_main, perc_point_1_cnt)[\"predicted_report_weight\"].sum(),\n",
    "    \"report_0.2%\": add_predicted_alert_weight(anomalies_main, perc_point_2_cnt)[\"predicted_report_weight\"].sum(),\n",
    "    \"report_0.5%\": add_predicted_alert_weight(anomalies_main, perc_point_5_cnt)[\"predicted_report_weight\"].sum(),\n",
    "    \"report_1%\": add_predicted_alert_weight(anomalies_main, perc_1_cnt)[\"predicted_report_weight\"].sum(),\n",
    "    \"tpr_report_1%\": tpr_report,\n",
    "    \"tpr_report_auc_1%\": np.mean(tpr_report),\n",
    "    \"max_1_hop_0_1_perc\": np.max(sizes_1_hop_0_1_perc),\n",
    "    \"max_1_hop_0_2_perc\": np.max(sizes_1_hop_0_2_perc),\n",
    "    \"max_1_hop_0_5_perc\": np.max(sizes_1_hop_0_5_perc),\n",
    "    \"max_1_hop_1_perc\": np.max(sizes_1_hop_1_perc),\n",
    "    \"mean_1_hop_0_1_perc\": np.mean(sizes_1_hop_0_1_perc),\n",
    "    \"mean_1_hop_0_2_perc\": np.mean(sizes_1_hop_0_2_perc),\n",
    "    \"mean_1_hop_0_5_perc\": np.mean(sizes_1_hop_0_5_perc),\n",
    "    \"mean_1_hop_1_perc\": np.mean(sizes_1_hop_1_perc),\n",
    "    \"median_1_hop_0_1_perc\": np.median(sizes_1_hop_0_1_perc),\n",
    "    \"median_1_hop_0_2_perc\": np.median(sizes_1_hop_0_2_perc),\n",
    "    \"median_1_hop_0_5_perc\": np.median(sizes_1_hop_0_5_perc),\n",
    "    \"median_1_hop_1_perc\": np.median(sizes_1_hop_1_perc),\n",
    "    \"max_edges_1_hop_0_1_perc\": np.max(sizes_edge_1_hop_0_1_perc),\n",
    "    \"max_edges_1_hop_0_2_perc\": np.max(sizes_edge_1_hop_0_2_perc),\n",
    "    \"max_edges_1_hop_0_5_perc\": np.max(sizes_edge_1_hop_0_5_perc),\n",
    "    \"max_edges_1_hop_1_perc\": np.max(sizes_edge_1_hop_1_perc),\n",
    "    \"mean_edges_1_hop_0_1_perc\": np.mean(sizes_edge_1_hop_0_1_perc),\n",
    "    \"mean_edges_1_hop_0_2_perc\": np.mean(sizes_edge_1_hop_0_2_perc),\n",
    "    \"mean_edges_1_hop_0_5_perc\": np.mean(sizes_edge_1_hop_0_5_perc),\n",
    "    \"mean_edges_1_hop_1_perc\": np.mean(sizes_edge_1_hop_1_perc),\n",
    "    \"median_edges_1_hop_0_1_perc\": np.median(sizes_edge_1_hop_0_1_perc),\n",
    "    \"median_edges_1_hop_0_2_perc\": np.median(sizes_edge_1_hop_0_2_perc),\n",
    "    \"median_edges_1_hop_0_5_perc\": np.median(sizes_edge_1_hop_0_5_perc),\n",
    "    \"median_edges_1_hop_1_perc\": np.median(sizes_edge_1_hop_1_perc),\n",
    "}]"
   ]
  },
  {
   "cell_type": "code",
   "execution_count": 12,
   "id": "acfe80cc-d4c9-4c36-831f-a3c0a89f5e6e",
   "metadata": {},
   "outputs": [
    {
     "name": "stdout",
     "output_type": "stream",
     "text": [
      "====================================================================================================\n",
      "0.75 288825 288825 (500886, 6)\n",
      "====================================================================================================\n"
     ]
    },
    {
     "name": "stderr",
     "output_type": "stream",
     "text": [
      "25/07/27 17:43:03 WARN TaskSetManager: Stage 18 contains a task of very large size (3244 KiB). The maximum recommended task size is 1000 KiB.\n",
      "                                                                                "
     ]
    },
    {
     "name": "stdout",
     "output_type": "stream",
     "text": [
      "\n",
      "Processing comm_as_source\n",
      "\n",
      "Processed hop #1 | 396,213 | 158,221\n",
      "Processed hop #2 | 4,881,014 | 142,048\n",
      "Processed hop #3 | 5,744,235 | 137,091\n",
      "Processed hop #4 | 6,531,518 | 136,588\n",
      "Processed hop #5 | 6,595,236 | 136,460\n",
      "\n",
      "Processing comm_as_target\n",
      "\n",
      "Processed hop #1 | 352,289 | 179,002\n",
      "Processed hop #2 | 5,092,852 | 161,925\n",
      "Processed hop #3 | 5,985,951 | 154,533\n",
      "Processed hop #4 | 7,026,183 | 153,590\n",
      "Processed hop #5 | 6,949,153 | 152,042\n",
      "\n",
      "Processing comm_as_passthrough\n",
      "\n",
      "Processed hop #1 | 230,589 | 48,398\n",
      "Processed hop #2 | 1,276,759 | 41,706\n",
      "Processed hop #3 | 1,701,712 | 40,271\n",
      "Processed hop #4 | 1,900,921 | 40,040\n",
      "Processed hop #5 | 1,938,276 | 40,000\n",
      "\n",
      "Processing comm_as_passthrough_reverse\n",
      "\n",
      "Processed hop #1 | 177,832 | 48,398\n",
      "Processed hop #2 | 1,037,554 | 40,556\n",
      "Processed hop #3 | 1,406,999 | 38,349\n",
      "Processed hop #4 | 1,693,934 | 37,971\n",
      "Processed hop #5 | 1,708,060 | 37,600\n",
      "\n",
      "\n",
      "comm_as_source_features\n",
      "\n",
      "CPU times: user 24 s, sys: 198 ms, total: 24.2 s\n",
      "Wall time: 24.2 s\n",
      "\n",
      "comm_as_target_features\n",
      "\n",
      "CPU times: user 26.4 s, sys: 74.9 ms, total: 26.5 s\n",
      "Wall time: 26.5 s\n",
      "\n",
      "comm_as_passthrough_features\n",
      "\n",
      "CPU times: user 6.98 s, sys: 29.3 ms, total: 7.01 s\n",
      "Wall time: 7.01 s\n",
      "\n",
      "comm_as_passthrough_features_reverse\n",
      "\n",
      "CPU times: user 6.57 s, sys: 36.6 ms, total: 6.61 s\n",
      "Wall time: 6.61 s\n",
      "\n",
      "\n",
      "CPU times: user 6min 13s, sys: 27.5 s, total: 6min 41s\n",
      "Wall time: 6min 43s\n",
      "Constructing Leiden communities\n",
      "CPU times: user 2min 59s, sys: 1.01 s, total: 3min\n",
      "Wall time: 3min\n",
      "Constructing 1-hop communities\n"
     ]
    },
    {
     "name": "stderr",
     "output_type": "stream",
     "text": [
      "                                                                                "
     ]
    },
    {
     "name": "stdout",
     "output_type": "stream",
     "text": [
      "CPU times: user 1.81 s, sys: 32.2 ms, total: 1.85 s\n",
      "Wall time: 12.9 s\n",
      "Leiden communitites features creation\n"
     ]
    },
    {
     "name": "stderr",
     "output_type": "stream",
     "text": [
      "                                                                                "
     ]
    },
    {
     "name": "stdout",
     "output_type": "stream",
     "text": [
      "CPU times: user 4.31 s, sys: 128 ms, total: 4.44 s\n",
      "Wall time: 53.9 s\n",
      "1-hop communitites features creation\n"
     ]
    },
    {
     "name": "stderr",
     "output_type": "stream",
     "text": [
      "                                                                                "
     ]
    },
    {
     "name": "stdout",
     "output_type": "stream",
     "text": [
      "CPU times: user 1min 39s, sys: 7.98 s, total: 1min 47s\n",
      "Wall time: 4min 2s\n",
      "1-hop-source features creation\n"
     ]
    },
    {
     "name": "stderr",
     "output_type": "stream",
     "text": [
      "25/07/27 17:57:56 WARN TaskSetManager: Stage 30 contains a task of very large size (5785 KiB). The maximum recommended task size is 1000 KiB.\n",
      "                                                                                "
     ]
    },
    {
     "name": "stdout",
     "output_type": "stream",
     "text": [
      "CPU times: user 1.36 s, sys: 193 ms, total: 1.55 s\n",
      "Wall time: 53.3 s\n",
      "1-hop-target features creation\n"
     ]
    },
    {
     "name": "stderr",
     "output_type": "stream",
     "text": [
      "25/07/27 17:58:50 WARN TaskSetManager: Stage 33 contains a task of very large size (5852 KiB). The maximum recommended task size is 1000 KiB.\n",
      "                                                                                "
     ]
    },
    {
     "name": "stdout",
     "output_type": "stream",
     "text": [
      "CPU times: user 1.53 s, sys: 190 ms, total: 1.72 s\n",
      "Wall time: 1min\n",
      "Features: (288825, 176)\n",
      "Deleted 10 constant columns\n",
      "Script executed in 0:16:51\n",
      "Training the model\n",
      "CPU times: user 9min 3s, sys: 31.7 s, total: 9min 35s\n",
      "Wall time: 9min 35s\n",
      "====================================================================================================\n",
      "0.5 192550 190890 (399692, 6)\n",
      "====================================================================================================\n"
     ]
    },
    {
     "name": "stderr",
     "output_type": "stream",
     "text": [
      "25/07/27 18:09:32 WARN TaskSetManager: Stage 36 contains a task of very large size (2602 KiB). The maximum recommended task size is 1000 KiB.\n",
      "                                                                                "
     ]
    },
    {
     "name": "stdout",
     "output_type": "stream",
     "text": [
      "\n",
      "Processing comm_as_source\n",
      "\n",
      "Processed hop #1 | 312,418 | 107,446\n",
      "Processed hop #2 | 3,647,473 | 99,618\n",
      "Processed hop #3 | 4,308,655 | 97,747\n",
      "Processed hop #4 | 4,705,113 | 97,475\n",
      "Processed hop #5 | 4,765,994 | 97,419\n",
      "\n",
      "Processing comm_as_target\n",
      "\n",
      "Processed hop #1 | 273,482 | 128,486\n",
      "Processed hop #2 | 4,194,012 | 119,511\n",
      "Processed hop #3 | 4,842,958 | 116,329\n",
      "Processed hop #4 | 5,417,702 | 115,824\n",
      "Processed hop #5 | 5,407,076 | 115,098\n",
      "\n",
      "Processing comm_as_passthrough\n",
      "\n",
      "Processed hop #1 | 200,004 | 45,042\n",
      "Processed hop #2 | 1,217,864 | 40,215\n",
      "Processed hop #3 | 1,647,648 | 39,274\n",
      "Processed hop #4 | 1,855,064 | 39,102\n",
      "Processed hop #5 | 1,897,484 | 39,072\n",
      "\n",
      "Processing comm_as_passthrough_reverse\n",
      "\n",
      "Processed hop #1 | 151,196 | 45,042\n",
      "Processed hop #2 | 969,730 | 39,054\n",
      "Processed hop #3 | 1,362,606 | 37,417\n",
      "Processed hop #4 | 1,648,465 | 37,120\n",
      "Processed hop #5 | 1,688,557 | 36,889\n",
      "\n",
      "\n",
      "comm_as_source_features\n",
      "\n",
      "CPU times: user 16.7 s, sys: 129 ms, total: 16.8 s\n",
      "Wall time: 16.8 s\n",
      "\n",
      "comm_as_target_features\n",
      "\n",
      "CPU times: user 19.7 s, sys: 66.6 ms, total: 19.7 s\n",
      "Wall time: 19.7 s\n",
      "\n",
      "comm_as_passthrough_features\n",
      "\n",
      "CPU times: user 6.68 s, sys: 34.3 ms, total: 6.71 s\n",
      "Wall time: 6.71 s\n",
      "\n",
      "comm_as_passthrough_features_reverse\n",
      "\n",
      "CPU times: user 6.24 s, sys: 32.6 ms, total: 6.28 s\n",
      "Wall time: 6.28 s\n",
      "\n",
      "\n",
      "CPU times: user 4min 59s, sys: 22 s, total: 5min 21s\n",
      "Wall time: 5min 22s\n",
      "Constructing Leiden communities\n",
      "CPU times: user 2min 2s, sys: 645 ms, total: 2min 3s\n",
      "Wall time: 2min 3s\n",
      "Constructing 1-hop communities\n"
     ]
    },
    {
     "name": "stderr",
     "output_type": "stream",
     "text": [
      "                                                                                "
     ]
    },
    {
     "name": "stdout",
     "output_type": "stream",
     "text": [
      "CPU times: user 1.06 s, sys: 25.8 ms, total: 1.09 s\n",
      "Wall time: 7.26 s\n",
      "Leiden communitites features creation\n"
     ]
    },
    {
     "name": "stderr",
     "output_type": "stream",
     "text": [
      "                                                                                "
     ]
    },
    {
     "name": "stdout",
     "output_type": "stream",
     "text": [
      "CPU times: user 2.31 s, sys: 80.4 ms, total: 2.39 s\n",
      "Wall time: 27.6 s\n",
      "1-hop communitites features creation\n"
     ]
    },
    {
     "name": "stderr",
     "output_type": "stream",
     "text": [
      "                                                                                "
     ]
    },
    {
     "name": "stdout",
     "output_type": "stream",
     "text": [
      "CPU times: user 1min 3s, sys: 2.19 s, total: 1min 5s\n",
      "Wall time: 2min 35s\n",
      "1-hop-source features creation\n"
     ]
    },
    {
     "name": "stderr",
     "output_type": "stream",
     "text": [
      "25/07/27 18:20:10 WARN TaskSetManager: Stage 48 contains a task of very large size (4642 KiB). The maximum recommended task size is 1000 KiB.\n",
      "                                                                                "
     ]
    },
    {
     "name": "stdout",
     "output_type": "stream",
     "text": [
      "CPU times: user 954 ms, sys: 144 ms, total: 1.1 s\n",
      "Wall time: 38 s\n",
      "1-hop-target features creation\n"
     ]
    },
    {
     "name": "stderr",
     "output_type": "stream",
     "text": [
      "25/07/27 18:20:48 WARN TaskSetManager: Stage 51 contains a task of very large size (4684 KiB). The maximum recommended task size is 1000 KiB.\n",
      "                                                                                "
     ]
    },
    {
     "name": "stdout",
     "output_type": "stream",
     "text": [
      "CPU times: user 1.15 s, sys: 137 ms, total: 1.29 s\n",
      "Wall time: 46.5 s\n",
      "Features: (190890, 176)\n",
      "Deleted 10 constant columns\n",
      "Script executed in 0:12:05\n",
      "Training the model\n",
      "CPU times: user 6min 31s, sys: 11.2 s, total: 6min 42s\n",
      "Wall time: 6min 43s\n",
      "====================================================================================================\n",
      "0.4 154040 152736 (354923, 6)\n",
      "====================================================================================================\n"
     ]
    },
    {
     "name": "stderr",
     "output_type": "stream",
     "text": [
      "25/07/27 18:28:22 WARN TaskSetManager: Stage 54 contains a task of very large size (2323 KiB). The maximum recommended task size is 1000 KiB.\n",
      "                                                                                "
     ]
    },
    {
     "name": "stdout",
     "output_type": "stream",
     "text": [
      "\n",
      "Processing comm_as_source\n",
      "\n",
      "Processed hop #1 | 272,371 | 77,739\n",
      "Processed hop #2 | 2,358,753 | 71,364\n",
      "Processed hop #3 | 2,987,167 | 69,855\n",
      "Processed hop #4 | 3,331,734 | 69,626\n",
      "Processed hop #5 | 3,392,549 | 69,572\n",
      "\n",
      "Processing comm_as_target\n",
      "\n",
      "Processed hop #1 | 255,571 | 118,641\n",
      "Processed hop #2 | 3,956,975 | 111,015\n",
      "Processed hop #3 | 4,563,761 | 108,419\n",
      "Processed hop #4 | 5,066,444 | 107,988\n",
      "Processed hop #5 | 5,075,248 | 107,510\n",
      "\n",
      "Processing comm_as_passthrough\n",
      "\n",
      "Processed hop #1 | 192,215 | 43,644\n",
      "Processed hop #2 | 1,199,073 | 39,657\n",
      "Processed hop #3 | 1,629,242 | 38,846\n",
      "Processed hop #4 | 1,835,924 | 38,693\n",
      "Processed hop #5 | 1,879,322 | 38,666\n",
      "\n",
      "Processing comm_as_passthrough_reverse\n",
      "\n",
      "Processed hop #1 | 145,256 | 43,644\n",
      "Processed hop #2 | 950,333 | 38,461\n",
      "Processed hop #3 | 1,346,458 | 37,023\n",
      "Processed hop #4 | 1,630,746 | 36,757\n",
      "Processed hop #5 | 1,678,070 | 36,575\n",
      "\n",
      "\n",
      "comm_as_source_features\n",
      "\n",
      "CPU times: user 11.9 s, sys: 110 ms, total: 12 s\n",
      "Wall time: 12 s\n",
      "\n",
      "comm_as_target_features\n",
      "\n",
      "CPU times: user 18.3 s, sys: 70.7 ms, total: 18.4 s\n",
      "Wall time: 18.4 s\n",
      "\n",
      "comm_as_passthrough_features\n",
      "\n",
      "CPU times: user 6.61 s, sys: 20.5 ms, total: 6.63 s\n",
      "Wall time: 6.63 s\n",
      "\n",
      "comm_as_passthrough_features_reverse\n",
      "\n",
      "CPU times: user 6.31 s, sys: 30.6 ms, total: 6.34 s\n",
      "Wall time: 6.35 s\n",
      "\n",
      "\n",
      "CPU times: user 4min 15s, sys: 16.8 s, total: 4min 31s\n",
      "Wall time: 4min 34s\n",
      "Constructing Leiden communities\n",
      "CPU times: user 1min 42s, sys: 606 ms, total: 1min 42s\n",
      "Wall time: 1min 42s\n",
      "Constructing 1-hop communities\n"
     ]
    },
    {
     "name": "stderr",
     "output_type": "stream",
     "text": [
      "                                                                                "
     ]
    },
    {
     "name": "stdout",
     "output_type": "stream",
     "text": [
      "CPU times: user 863 ms, sys: 23.7 ms, total: 887 ms\n",
      "Wall time: 6.6 s\n",
      "Leiden communitites features creation\n"
     ]
    },
    {
     "name": "stderr",
     "output_type": "stream",
     "text": [
      "                                                                                "
     ]
    },
    {
     "name": "stdout",
     "output_type": "stream",
     "text": [
      "CPU times: user 1.87 s, sys: 48.6 ms, total: 1.92 s\n",
      "Wall time: 23.9 s\n",
      "1-hop communitites features creation\n"
     ]
    },
    {
     "name": "stderr",
     "output_type": "stream",
     "text": [
      "                                                                                "
     ]
    },
    {
     "name": "stdout",
     "output_type": "stream",
     "text": [
      "CPU times: user 50.8 s, sys: 2.59 s, total: 53.4 s\n",
      "Wall time: 2min 4s\n",
      "1-hop-source features creation\n"
     ]
    },
    {
     "name": "stderr",
     "output_type": "stream",
     "text": [
      "25/07/27 18:37:14 WARN TaskSetManager: Stage 66 contains a task of very large size (4145 KiB). The maximum recommended task size is 1000 KiB.\n",
      "                                                                                "
     ]
    },
    {
     "name": "stdout",
     "output_type": "stream",
     "text": [
      "CPU times: user 683 ms, sys: 113 ms, total: 796 ms\n",
      "Wall time: 28.7 s\n",
      "1-hop-target features creation\n"
     ]
    },
    {
     "name": "stderr",
     "output_type": "stream",
     "text": [
      "25/07/27 18:37:43 WARN TaskSetManager: Stage 69 contains a task of very large size (4171 KiB). The maximum recommended task size is 1000 KiB.\n",
      "                                                                                "
     ]
    },
    {
     "name": "stdout",
     "output_type": "stream",
     "text": [
      "CPU times: user 981 ms, sys: 124 ms, total: 1.1 s\n",
      "Wall time: 42.5 s\n",
      "Features: (152736, 176)\n",
      "Deleted 10 constant columns\n",
      "Script executed in 0:10:05\n",
      "Training the model\n",
      "CPU times: user 5min 30s, sys: 9.91 s, total: 5min 40s\n",
      "Wall time: 5min 41s\n",
      "====================================================================================================\n",
      "0.3 115530 114514 (306910, 6)\n",
      "====================================================================================================\n"
     ]
    },
    {
     "name": "stderr",
     "output_type": "stream",
     "text": [
      "25/07/27 18:44:11 WARN TaskSetManager: Stage 72 contains a task of very large size (2012 KiB). The maximum recommended task size is 1000 KiB.\n",
      "                                                                                "
     ]
    },
    {
     "name": "stdout",
     "output_type": "stream",
     "text": [
      "\n",
      "Processing comm_as_source\n",
      "\n",
      "Processed hop #1 | 246,690 | 65,382\n",
      "Processed hop #2 | 1,923,775 | 60,305\n",
      "Processed hop #3 | 2,520,027 | 59,102\n",
      "Processed hop #4 | 2,815,074 | 58,916\n",
      "Processed hop #5 | 2,872,658 | 58,876\n",
      "\n",
      "Processing comm_as_target\n",
      "\n",
      "Processed hop #1 | 217,578 | 90,115\n",
      "Processed hop #2 | 2,819,169 | 83,857\n",
      "Processed hop #3 | 3,363,340 | 81,860\n",
      "Processed hop #4 | 3,788,046 | 81,505\n",
      "Processed hop #5 | 3,850,156 | 81,344\n",
      "\n",
      "Processing comm_as_passthrough\n",
      "\n",
      "Processed hop #1 | 180,857 | 40,983\n",
      "Processed hop #2 | 1,135,137 | 37,825\n",
      "Processed hop #3 | 1,560,171 | 37,176\n",
      "Processed hop #4 | 1,759,019 | 37,050\n",
      "Processed hop #5 | 1,797,010 | 37,029\n",
      "\n",
      "Processing comm_as_passthrough_reverse\n",
      "\n",
      "Processed hop #1 | 137,590 | 40,983\n",
      "Processed hop #2 | 898,378 | 36,691\n",
      "Processed hop #3 | 1,290,851 | 35,529\n",
      "Processed hop #4 | 1,568,968 | 35,302\n",
      "Processed hop #5 | 1,623,595 | 35,183\n",
      "\n",
      "\n",
      "comm_as_source_features\n",
      "\n",
      "CPU times: user 9.99 s, sys: 54.3 ms, total: 10 s\n",
      "Wall time: 10 s\n",
      "\n",
      "comm_as_target_features\n",
      "\n",
      "CPU times: user 13.8 s, sys: 72.5 ms, total: 13.9 s\n",
      "Wall time: 14 s\n",
      "\n",
      "comm_as_passthrough_features\n",
      "\n",
      "CPU times: user 6.28 s, sys: 35.3 ms, total: 6.32 s\n",
      "Wall time: 6.32 s\n",
      "\n",
      "comm_as_passthrough_features_reverse\n",
      "\n",
      "CPU times: user 5.91 s, sys: 35.1 ms, total: 5.95 s\n",
      "Wall time: 5.95 s\n",
      "\n",
      "\n",
      "CPU times: user 3min 34s, sys: 13.8 s, total: 3min 47s\n",
      "Wall time: 3min 49s\n",
      "Constructing Leiden communities\n",
      "CPU times: user 1min 23s, sys: 563 ms, total: 1min 24s\n",
      "Wall time: 1min 24s\n",
      "Constructing 1-hop communities\n"
     ]
    },
    {
     "name": "stderr",
     "output_type": "stream",
     "text": [
      "                                                                                "
     ]
    },
    {
     "name": "stdout",
     "output_type": "stream",
     "text": [
      "CPU times: user 749 ms, sys: 19.3 ms, total: 768 ms\n",
      "Wall time: 5.45 s\n",
      "Leiden communitites features creation\n"
     ]
    },
    {
     "name": "stderr",
     "output_type": "stream",
     "text": [
      "                                                                                "
     ]
    },
    {
     "name": "stdout",
     "output_type": "stream",
     "text": [
      "CPU times: user 1.24 s, sys: 78 ms, total: 1.32 s\n",
      "Wall time: 14.8 s\n",
      "1-hop communitites features creation\n"
     ]
    },
    {
     "name": "stderr",
     "output_type": "stream",
     "text": [
      "                                                                                "
     ]
    },
    {
     "name": "stdout",
     "output_type": "stream",
     "text": [
      "CPU times: user 38 s, sys: 1.58 s, total: 39.6 s\n",
      "Wall time: 1min 31s\n",
      "1-hop-source features creation\n"
     ]
    },
    {
     "name": "stderr",
     "output_type": "stream",
     "text": [
      "25/07/27 18:51:17 WARN TaskSetManager: Stage 84 contains a task of very large size (3591 KiB). The maximum recommended task size is 1000 KiB.\n",
      "                                                                                "
     ]
    },
    {
     "name": "stdout",
     "output_type": "stream",
     "text": [
      "CPU times: user 566 ms, sys: 83.1 ms, total: 649 ms\n",
      "Wall time: 23.5 s\n",
      "1-hop-target features creation\n"
     ]
    },
    {
     "name": "stderr",
     "output_type": "stream",
     "text": [
      "25/07/27 18:51:41 WARN TaskSetManager: Stage 87 contains a task of very large size (3611 KiB). The maximum recommended task size is 1000 KiB.\n",
      "                                                                                "
     ]
    },
    {
     "name": "stdout",
     "output_type": "stream",
     "text": [
      "CPU times: user 741 ms, sys: 118 ms, total: 859 ms\n",
      "Wall time: 32.4 s\n",
      "Features: (114514, 176)\n",
      "Deleted 10 constant columns\n",
      "Script executed in 0:08:04\n",
      "Training the model\n",
      "CPU times: user 4min 24s, sys: 13.8 s, total: 4min 37s\n",
      "Wall time: 4min 37s\n",
      "====================================================================================================\n",
      "0.2 77020 76237 (254260, 6)\n",
      "====================================================================================================\n"
     ]
    },
    {
     "name": "stderr",
     "output_type": "stream",
     "text": [
      "25/07/27 18:56:54 WARN TaskSetManager: Stage 90 contains a task of very large size (1671 KiB). The maximum recommended task size is 1000 KiB.\n",
      "                                                                                "
     ]
    },
    {
     "name": "stdout",
     "output_type": "stream",
     "text": [
      "\n",
      "Processing comm_as_source\n",
      "\n",
      "Processed hop #1 | 219,217 | 53,273\n",
      "Processed hop #2 | 1,522,697 | 49,450\n",
      "Processed hop #3 | 2,070,380 | 48,578\n",
      "Processed hop #4 | 2,311,726 | 48,437\n",
      "Processed hop #5 | 2,365,910 | 48,402\n",
      "\n",
      "Processing comm_as_target\n",
      "\n",
      "Processed hop #1 | 176,194 | 58,913\n",
      "Processed hop #2 | 1,534,319 | 53,984\n",
      "Processed hop #3 | 2,017,390 | 52,438\n",
      "Processed hop #4 | 2,373,987 | 52,148\n",
      "Processed hop #5 | 2,449,823 | 52,058\n",
      "\n",
      "Processing comm_as_passthrough\n",
      "\n",
      "Processed hop #1 | 166,770 | 35,949\n",
      "Processed hop #2 | 991,553 | 33,563\n",
      "Processed hop #3 | 1,396,788 | 33,071\n",
      "Processed hop #4 | 1,566,582 | 32,979\n",
      "Processed hop #5 | 1,605,037 | 32,957\n",
      "\n",
      "Processing comm_as_passthrough_reverse\n",
      "\n",
      "Processed hop #1 | 126,675 | 35,949\n",
      "Processed hop #2 | 774,165 | 32,502\n",
      "Processed hop #3 | 1,144,937 | 31,575\n",
      "Processed hop #4 | 1,396,819 | 31,386\n",
      "Processed hop #5 | 1,457,617 | 31,324\n",
      "\n",
      "\n",
      "comm_as_source_features\n",
      "\n",
      "CPU times: user 8.18 s, sys: 34.4 ms, total: 8.22 s\n",
      "Wall time: 8.21 s\n",
      "\n",
      "comm_as_target_features\n",
      "\n",
      "CPU times: user 8.76 s, sys: 30.9 ms, total: 8.79 s\n",
      "Wall time: 8.79 s\n",
      "\n",
      "comm_as_passthrough_features\n",
      "\n",
      "CPU times: user 5.56 s, sys: 20.8 ms, total: 5.58 s\n",
      "Wall time: 5.58 s\n",
      "\n",
      "comm_as_passthrough_features_reverse\n",
      "\n",
      "CPU times: user 5.25 s, sys: 21.5 ms, total: 5.27 s\n",
      "Wall time: 5.27 s\n",
      "\n",
      "\n",
      "CPU times: user 2min 45s, sys: 10.8 s, total: 2min 56s\n",
      "Wall time: 2min 57s\n",
      "Constructing Leiden communities\n",
      "CPU times: user 1min 5s, sys: 410 ms, total: 1min 5s\n",
      "Wall time: 1min 5s\n",
      "Constructing 1-hop communities\n"
     ]
    },
    {
     "name": "stderr",
     "output_type": "stream",
     "text": [
      "                                                                                "
     ]
    },
    {
     "name": "stdout",
     "output_type": "stream",
     "text": [
      "CPU times: user 605 ms, sys: 15.4 ms, total: 621 ms\n",
      "Wall time: 2.1 s\n",
      "Leiden communitites features creation\n"
     ]
    },
    {
     "name": "stderr",
     "output_type": "stream",
     "text": [
      "                                                                                "
     ]
    },
    {
     "name": "stdout",
     "output_type": "stream",
     "text": [
      "CPU times: user 984 ms, sys: 44.2 ms, total: 1.03 s\n",
      "Wall time: 4.54 s\n",
      "1-hop communitites features creation\n"
     ]
    },
    {
     "name": "stderr",
     "output_type": "stream",
     "text": [
      "                                                                                "
     ]
    },
    {
     "name": "stdout",
     "output_type": "stream",
     "text": [
      "CPU times: user 25 s, sys: 978 ms, total: 26 s\n",
      "Wall time: 1min 6s\n",
      "1-hop-source features creation\n"
     ]
    },
    {
     "name": "stderr",
     "output_type": "stream",
     "text": [
      "25/07/27 19:02:10 WARN TaskSetManager: Stage 102 contains a task of very large size (2981 KiB). The maximum recommended task size is 1000 KiB.\n",
      "                                                                                "
     ]
    },
    {
     "name": "stdout",
     "output_type": "stream",
     "text": [
      "CPU times: user 461 ms, sys: 87 ms, total: 548 ms\n",
      "Wall time: 19.7 s\n",
      "1-hop-target features creation\n"
     ]
    },
    {
     "name": "stderr",
     "output_type": "stream",
     "text": [
      "25/07/27 19:02:30 WARN TaskSetManager: Stage 105 contains a task of very large size (2995 KiB). The maximum recommended task size is 1000 KiB.\n",
      "                                                                                "
     ]
    },
    {
     "name": "stdout",
     "output_type": "stream",
     "text": [
      "CPU times: user 505 ms, sys: 93.3 ms, total: 598 ms\n",
      "Wall time: 20.6 s\n",
      "Features: (76237, 176)\n",
      "Deleted 10 constant columns\n",
      "Script executed in 0:05:58\n",
      "Training the model\n",
      "CPU times: user 3min 16s, sys: 7.18 s, total: 3min 23s\n",
      "Wall time: 3min 23s\n",
      "====================================================================================================\n",
      "0.1 38510 38047 (172405, 6)\n",
      "====================================================================================================\n"
     ]
    },
    {
     "name": "stderr",
     "output_type": "stream",
     "text": [
      "25/07/27 19:06:16 WARN TaskSetManager: Stage 108 contains a task of very large size (1140 KiB). The maximum recommended task size is 1000 KiB.\n",
      "                                                                                "
     ]
    },
    {
     "name": "stdout",
     "output_type": "stream",
     "text": [
      "\n",
      "Processing comm_as_source\n",
      "\n",
      "Processed hop #1 | 153,406 | 30,375\n",
      "Processed hop #2 | 839,920 | 28,463\n",
      "Processed hop #3 | 1,216,007 | 28,042\n",
      "Processed hop #4 | 1,344,638 | 27,981\n",
      "Processed hop #5 | 1,376,079 | 27,968\n",
      "\n",
      "Processing comm_as_target\n",
      "\n",
      "Processed hop #1 | 119,540 | 30,303\n",
      "Processed hop #2 | 692,277 | 27,537\n",
      "Processed hop #3 | 1,000,211 | 26,738\n",
      "Processed hop #4 | 1,200,302 | 26,587\n",
      "Processed hop #5 | 1,252,831 | 26,549\n",
      "\n",
      "Processing comm_as_passthrough\n",
      "\n",
      "Processed hop #1 | 125,299 | 22,631\n",
      "Processed hop #2 | 640,847 | 21,458\n",
      "Processed hop #3 | 925,748 | 21,217\n",
      "Processed hop #4 | 1,018,082 | 21,174\n",
      "Processed hop #5 | 1,040,889 | 21,167\n",
      "\n",
      "Processing comm_as_passthrough_reverse\n",
      "\n",
      "Processed hop #1 | 94,648 | 22,631\n",
      "Processed hop #2 | 497,255 | 20,624\n",
      "Processed hop #3 | 750,589 | 20,116\n",
      "Processed hop #4 | 902,418 | 20,014\n",
      "Processed hop #5 | 945,451 | 19,991\n",
      "\n",
      "\n",
      "comm_as_source_features\n",
      "\n",
      "CPU times: user 4.97 s, sys: 24.9 ms, total: 4.99 s\n",
      "Wall time: 4.99 s\n",
      "\n",
      "comm_as_target_features\n",
      "\n",
      "CPU times: user 4.67 s, sys: 20.3 ms, total: 4.69 s\n",
      "Wall time: 4.69 s\n",
      "\n",
      "comm_as_passthrough_features\n",
      "\n",
      "CPU times: user 3.71 s, sys: 15.6 ms, total: 3.73 s\n",
      "Wall time: 3.73 s\n",
      "\n",
      "comm_as_passthrough_features_reverse\n",
      "\n",
      "CPU times: user 3.51 s, sys: 15.6 ms, total: 3.53 s\n",
      "Wall time: 3.53 s\n",
      "\n",
      "\n",
      "CPU times: user 1min 38s, sys: 6.7 s, total: 1min 45s\n",
      "Wall time: 1min 47s\n",
      "Constructing Leiden communities\n",
      "CPU times: user 43.6 s, sys: 340 ms, total: 43.9 s\n",
      "Wall time: 43.9 s\n",
      "Constructing 1-hop communities\n"
     ]
    },
    {
     "name": "stderr",
     "output_type": "stream",
     "text": [
      "                                                                                "
     ]
    },
    {
     "name": "stdout",
     "output_type": "stream",
     "text": [
      "CPU times: user 458 ms, sys: 13.5 ms, total: 472 ms\n",
      "Wall time: 3.99 s\n",
      "Leiden communitites features creation\n"
     ]
    },
    {
     "name": "stderr",
     "output_type": "stream",
     "text": [
      "                                                                                "
     ]
    },
    {
     "name": "stdout",
     "output_type": "stream",
     "text": [
      "CPU times: user 615 ms, sys: 43.5 ms, total: 659 ms\n",
      "Wall time: 2.7 s\n",
      "1-hop communitites features creation\n"
     ]
    },
    {
     "name": "stderr",
     "output_type": "stream",
     "text": [
      "                                                                                "
     ]
    },
    {
     "name": "stdout",
     "output_type": "stream",
     "text": [
      "CPU times: user 12.5 s, sys: 475 ms, total: 12.9 s\n",
      "Wall time: 33.2 s\n",
      "1-hop-source features creation\n"
     ]
    },
    {
     "name": "stderr",
     "output_type": "stream",
     "text": [
      "25/07/27 19:09:27 WARN TaskSetManager: Stage 120 contains a task of very large size (2031 KiB). The maximum recommended task size is 1000 KiB.\n",
      "                                                                                "
     ]
    },
    {
     "name": "stdout",
     "output_type": "stream",
     "text": [
      "CPU times: user 265 ms, sys: 44.5 ms, total: 310 ms\n",
      "Wall time: 11.4 s\n",
      "1-hop-target features creation\n"
     ]
    },
    {
     "name": "stderr",
     "output_type": "stream",
     "text": [
      "25/07/27 19:09:39 WARN TaskSetManager: Stage 123 contains a task of very large size (2037 KiB). The maximum recommended task size is 1000 KiB.\n",
      "                                                                                "
     ]
    },
    {
     "name": "stdout",
     "output_type": "stream",
     "text": [
      "CPU times: user 263 ms, sys: 45.7 ms, total: 309 ms\n",
      "Wall time: 10.8 s\n",
      "Features: (38047, 176)\n",
      "Deleted 10 constant columns\n",
      "Script executed in 0:03:34\n",
      "Training the model\n",
      "CPU times: user 2min 6s, sys: 3.04 s, total: 2min 9s\n",
      "Wall time: 2min 9s\n",
      "CPU times: user 1h 9min 58s, sys: 3min 18s, total: 1h 13min 16s\n",
      "Wall time: 1h 28min 59s\n"
     ]
    }
   ],
   "source": [
    "%%time\n",
    "\n",
    "for perc_count in [perc_75_cnt, perc_50_cnt, perc_40_cnt, perc_30_cnt, perc_20_cnt, perc_10_cnt]:\n",
    "    rectify_perc = round(perc_count / total_nodes, 2)\n",
    "    candidates = add_predicted_alert_weight(anomalies_main, perc_count).index.tolist()\n",
    "    filter_ = data[\"source\"].isin(candidates) & data[\"target\"].isin(candidates)\n",
    "    data_in_scope = data.loc[filter_, :]\n",
    "    candidates = sorted(set(data_in_scope[\"source\"].unique()).union(data_in_scope[\"target\"].unique()))\n",
    "    print(\"=\" * 100)\n",
    "    print(rectify_perc, perc_count, len(candidates), data_in_scope.shape)\n",
    "    print(\"=\" * 100)\n",
    "    data_in_scope = data_in_scope.set_index([\"source\", \"target\"]).join(\n",
    "        get_weights(data_in_scope).set_index([\"source\", \"target\"]), how=\"left\"\n",
    "    ).reset_index()\n",
    "    data_in_scope.loc[:, \"amount_weighted\"] = data_in_scope.loc[:, \"amount\"] * data_in_scope.loc[:, \"weight\"]\n",
    "    \n",
    "    %run model.ipynb\n",
    "\n",
    "    communities_1_hop_dict = dict(communities_1_hop)\n",
    "\n",
    "    comms_1_hop_0_1_perc = [communities_1_hop_dict[x] for x in add_predicted_alert_weight(anomalies, perc_point_1_cnt).index]\n",
    "    comms_1_hop_0_2_perc = [communities_1_hop_dict[x] for x in add_predicted_alert_weight(anomalies, perc_point_2_cnt).index]\n",
    "    comms_1_hop_0_5_perc = [communities_1_hop_dict[x] for x in add_predicted_alert_weight(anomalies, perc_point_5_cnt).index]\n",
    "    comms_1_hop_1_perc = [communities_1_hop_dict[x] for x in add_predicted_alert_weight(anomalies, perc_1_cnt).index]\n",
    "    \n",
    "    sizes_1_hop_0_1_perc = [len(x) for x in comms_1_hop_0_1_perc]\n",
    "    sizes_1_hop_0_2_perc = [len(x) for x in comms_1_hop_0_2_perc]\n",
    "    sizes_1_hop_0_5_perc = [len(x) for x in comms_1_hop_0_5_perc]\n",
    "    sizes_1_hop_1_perc = [len(x) for x in comms_1_hop_1_perc]\n",
    "    \n",
    "    sizes_edge_1_hop_0_1_perc = [graph_global.induced_subgraph(x).ecount() for x in comms_1_hop_0_1_perc]\n",
    "    sizes_edge_1_hop_0_2_perc = [graph_global.induced_subgraph(x).ecount() for x in comms_1_hop_0_2_perc]\n",
    "    sizes_edge_1_hop_0_5_perc = [graph_global.induced_subgraph(x).ecount() for x in comms_1_hop_0_5_perc]\n",
    "    sizes_edge_1_hop_1_perc = [graph_global.induced_subgraph(x).ecount() for x in comms_1_hop_1_perc]\n",
    "\n",
    "    tpr = np.cumsum(add_predicted_alert_weight(anomalies, perc_1_cnt)[\"predicted_alert_weight\"]).values\n",
    "    tpr_report = np.cumsum(add_predicted_alert_weight(anomalies, perc_1_cnt)[\"predicted_report_weight\"]).values\n",
    "\n",
    "    results.append({\n",
    "        \"rectify_perc\": rectify_perc,\n",
    "        \"sizes_egonet_red_alerted\": sizes_egonet_red_alerted,\n",
    "        \"sizes_1_hop_alerted\": sizes_1_hop_alerted,\n",
    "        \"leiden_size_max\": np.max(sizes_leiden),\n",
    "        \"leiden_size_mean\": np.mean(sizes_leiden),\n",
    "        \"leiden_size_median\": np.median(sizes_leiden),\n",
    "        \"1_hop_size_max\": np.max(sizes_1_hop),\n",
    "        \"1_hop_size_mean\": np.mean(sizes_1_hop),\n",
    "        \"1_hop_size_median\": np.median(sizes_1_hop),\n",
    "        \"0.1%\": add_predicted_alert_weight(anomalies, perc_point_1_cnt)[\"predicted_alert_weight\"].sum(),\n",
    "        \"0.2%\": add_predicted_alert_weight(anomalies, perc_point_2_cnt)[\"predicted_alert_weight\"].sum(),\n",
    "        \"0.5%\": add_predicted_alert_weight(anomalies, perc_point_5_cnt)[\"predicted_alert_weight\"].sum(),\n",
    "        \"1%\": add_predicted_alert_weight(anomalies, perc_1_cnt)[\"predicted_alert_weight\"].sum(),\n",
    "        \"tpr_1%\": tpr,\n",
    "        \"tpr_auc_1%\": np.mean(tpr),\n",
    "        \"report_0.1%\": add_predicted_alert_weight(anomalies, perc_point_1_cnt)[\"predicted_report_weight\"].sum(),\n",
    "        \"report_0.2%\": add_predicted_alert_weight(anomalies, perc_point_2_cnt)[\"predicted_report_weight\"].sum(),\n",
    "        \"report_0.5%\": add_predicted_alert_weight(anomalies, perc_point_5_cnt)[\"predicted_report_weight\"].sum(),\n",
    "        \"report_1%\": add_predicted_alert_weight(anomalies, perc_1_cnt)[\"predicted_report_weight\"].sum(),\n",
    "        \"tpr_report_1%\": tpr_report,\n",
    "        \"tpr_report_auc_1%\": np.mean(tpr_report),\n",
    "        \"max_1_hop_0_1_perc\": np.max(sizes_1_hop_0_1_perc),\n",
    "        \"max_1_hop_0_2_perc\": np.max(sizes_1_hop_0_2_perc),\n",
    "        \"max_1_hop_0_5_perc\": np.max(sizes_1_hop_0_5_perc),\n",
    "        \"max_1_hop_1_perc\": np.max(sizes_1_hop_1_perc),\n",
    "        \"mean_1_hop_0_1_perc\": np.mean(sizes_1_hop_0_1_perc),\n",
    "        \"mean_1_hop_0_2_perc\": np.mean(sizes_1_hop_0_2_perc),\n",
    "        \"mean_1_hop_0_5_perc\": np.mean(sizes_1_hop_0_5_perc),\n",
    "        \"mean_1_hop_1_perc\": np.mean(sizes_1_hop_1_perc),\n",
    "        \"median_1_hop_0_1_perc\": np.median(sizes_1_hop_0_1_perc),\n",
    "        \"median_1_hop_0_2_perc\": np.median(sizes_1_hop_0_2_perc),\n",
    "        \"median_1_hop_0_5_perc\": np.median(sizes_1_hop_0_5_perc),\n",
    "        \"median_1_hop_1_perc\": np.median(sizes_1_hop_1_perc),\n",
    "        \"max_edges_1_hop_0_1_perc\": np.max(sizes_edge_1_hop_0_1_perc),\n",
    "        \"max_edges_1_hop_0_2_perc\": np.max(sizes_edge_1_hop_0_2_perc),\n",
    "        \"max_edges_1_hop_0_5_perc\": np.max(sizes_edge_1_hop_0_5_perc),\n",
    "        \"max_edges_1_hop_1_perc\": np.max(sizes_edge_1_hop_1_perc),\n",
    "        \"mean_edges_1_hop_0_1_perc\": np.mean(sizes_edge_1_hop_0_1_perc),\n",
    "        \"mean_edges_1_hop_0_2_perc\": np.mean(sizes_edge_1_hop_0_2_perc),\n",
    "        \"mean_edges_1_hop_0_5_perc\": np.mean(sizes_edge_1_hop_0_5_perc),\n",
    "        \"mean_edges_1_hop_1_perc\": np.mean(sizes_edge_1_hop_1_perc),\n",
    "        \"median_edges_1_hop_0_1_perc\": np.median(sizes_edge_1_hop_0_1_perc),\n",
    "        \"median_edges_1_hop_0_2_perc\": np.median(sizes_edge_1_hop_0_2_perc),\n",
    "        \"median_edges_1_hop_0_5_perc\": np.median(sizes_edge_1_hop_0_5_perc),\n",
    "        \"median_edges_1_hop_1_perc\": np.median(sizes_edge_1_hop_1_perc),\n",
    "    })\n",
    "\n",
    "results = pd.DataFrame(results)\n",
    "results.to_parquet(f\".{os.sep}results{os.sep}iter-ver.parquet\")"
   ]
  },
  {
   "cell_type": "code",
   "execution_count": 13,
   "id": "f31c26bf-fa80-4673-99bf-f669b14173f8",
   "metadata": {},
   "outputs": [
    {
     "data": {
      "text/plain": [
       "<Axes: >"
      ]
     },
     "execution_count": 13,
     "metadata": {},
     "output_type": "execute_result"
    },
    {
     "data": {
      "image/png": "[encoded data removed]",
      "text/plain": [
       "<Figure size 640x480 with 1 Axes>"
      ]
     },
     "metadata": {},
     "output_type": "display_data"
    }
   ],
   "source": [
    "pd.DataFrame(tpr, columns=[\"tpr_auc\"]).plot()"
   ]
  },
  {
   "cell_type": "code",
   "execution_count": null,
   "id": "792391f8-56e2-49f8-b0a3-f87483325ba3",
   "metadata": {},
   "outputs": [],
   "source": []
  }
 ],
 "metadata": {
  "kernelspec": {
   "display_name": "Python 3 (ipykernel)",
   "language": "python",
   "name": "python3"
  },
  "language_info": {
   "codemirror_mode": {
    "name": "ipython",
    "version": 3
   },
   "file_extension": ".py",
   "mimetype": "text/x-python",
   "name": "python",
   "nbconvert_exporter": "python",
   "pygments_lexer": "ipython3",
   "version": "3.11.8"
  }
 },
 "nbformat": 4,
 "nbformat_minor": 5
}
