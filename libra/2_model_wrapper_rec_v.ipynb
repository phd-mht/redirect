{
 "cells": [
  {
   "cell_type": "markdown",
   "id": "c949a975-6aac-497b-9680-8b708973d3db",
   "metadata": {},
   "source": [
    "### https://ieeexplore.ieee.org/stamp/stamp.jsp?tp=&arnumber=9762926"
   ]
  },
  {
   "cell_type": "code",
   "execution_count": 1,
   "id": "fd66cc69",
   "metadata": {},
   "outputs": [],
   "source": [
    "import json\n",
    "import random\n",
    "import os\n",
    "import pickle\n",
    "import time\n",
    "import shutil\n",
    "import sys\n",
    "import uuid\n",
    "from collections import defaultdict\n",
    "from datetime import timedelta\n",
    "from glob import glob\n",
    "from itertools import product\n",
    "from pyspark.sql import functions as sf\n",
    "from pyspark import SparkConf\n",
    "from pyspark.sql import SparkSession\n",
    "from pyspark.storagelevel import StorageLevel\n",
    "from sklearn.ensemble import IsolationForest\n",
    "from sklearn.metrics import roc_auc_score\n",
    "\n",
    "import igraph as ig\n",
    "import leidenalg as la\n",
    "import numpy as np\n",
    "import pandas as pd\n",
    "\n",
    "import settings as s\n",
    "from common import get_weights\n",
    "from communities import get_communities_spark\n",
    "from features import generate_features_spark, generate_features_udf_wrapper, SCHEMA_FEAT_UDF\n",
    "\n",
    "%load_ext autoreload\n",
    "%autoreload 2"
   ]
  },
  {
   "cell_type": "code",
   "execution_count": 2,
   "id": "b78718f0-7f15-4c1f-963f-bd160efec0cb",
   "metadata": {},
   "outputs": [],
   "source": [
    "if (\n",
    "    sys.version_info.major,\n",
    "    sys.version_info.minor,\n",
    "    sys.version_info.micro,\n",
    ") != (3, 11, 8):\n",
    "    raise EnvironmentError(\n",
    "        \"Only runs efficiently on Python 3.11.8 (Tested on: Conda 24.1.2 | Apple M3 Pro)\"\n",
    "    )"
   ]
  },
  {
   "cell_type": "code",
   "execution_count": 3,
   "id": "285f2aef-e6d2-48b2-b720-a02710e4e26f",
   "metadata": {},
   "outputs": [
    {
     "name": "stderr",
     "output_type": "stream",
     "text": [
      "WARNING: Using incubator modules: jdk.incubator.vector\n",
      "Using Spark's default log4j profile: org/apache/spark/log4j2-defaults.properties\n",
      "Setting default log level to \"WARN\".\n",
      "To adjust logging level use sc.setLogLevel(newLevel). For SparkR, use setLogLevel(newLevel).\n",
      "25/07/27 19:24:42 WARN NativeCodeLoader: Unable to load native-hadoop library for your platform... using builtin-java classes where applicable\n",
      "----------------------------------------\n",
      "Exception occurred during processing of request from ('127.0.0.1', 61088)\n",
      "Traceback (most recent call last):\n",
      "  File \"/Users/ut77bo/miniconda3/envs/redirect/lib/python3.11/socketserver.py\", line 317, in _handle_request_noblock\n",
      "    self.process_request(request, client_address)\n",
      "  File \"/Users/ut77bo/miniconda3/envs/redirect/lib/python3.11/socketserver.py\", line 348, in process_request\n",
      "    self.finish_request(request, client_address)\n",
      "  File \"/Users/ut77bo/miniconda3/envs/redirect/lib/python3.11/socketserver.py\", line 361, in finish_request\n",
      "    self.RequestHandlerClass(request, client_address, self)\n",
      "  File \"/Users/ut77bo/miniconda3/envs/redirect/lib/python3.11/socketserver.py\", line 755, in __init__\n",
      "    self.handle()\n",
      "  File \"/Users/ut77bo/miniconda3/envs/redirect/lib/python3.11/site-packages/pyspark/accumulators.py\", line 299, in handle\n",
      "    poll(accum_updates)\n",
      "  File \"/Users/ut77bo/miniconda3/envs/redirect/lib/python3.11/site-packages/pyspark/accumulators.py\", line 271, in poll\n",
      "    if self.rfile in r and func():\n",
      "                           ^^^^^^\n",
      "  File \"/Users/ut77bo/miniconda3/envs/redirect/lib/python3.11/site-packages/pyspark/accumulators.py\", line 275, in accum_updates\n",
      "    num_updates = read_int(self.rfile)\n",
      "                  ^^^^^^^^^^^^^^^^^^^^\n",
      "  File \"/Users/ut77bo/miniconda3/envs/redirect/lib/python3.11/site-packages/pyspark/serializers.py\", line 597, in read_int\n",
      "    raise EOFError\n",
      "EOFError\n",
      "----------------------------------------\n"
     ]
    }
   ],
   "source": [
    "SPARK_CONF = [\n",
    "    (\"spark.driver.memory\", \"32g\"),\n",
    "    (\"spark.worker.memory\", \"32g\"),\n",
    "    (\"spark.driver.maxResultSize\", \"32g\"),\n",
    "    (\"spark.driver.bindAddress\", \"127.0.0.1\"),\n",
    "    (\"spark.sql.execution.arrow.pyspark.enabled\", \"true\"),\n",
    "    (\"spark.network.timeout\", \"600s\"),\n",
    "    (\"spark.sql.autoBroadcastJoinThreshold\", -1)\n",
    "]\n",
    "\n",
    "shutil.rmtree(\"artifacts\", ignore_errors=True)\n",
    "spark = (\n",
    "    SparkSession.builder.appName(\"testing\")\n",
    "    .config(conf=SparkConf().setAll(SPARK_CONF))\n",
    "    .getOrCreate()\n",
    ")"
   ]
  },
  {
   "cell_type": "code",
   "execution_count": 4,
   "id": "a2442c15",
   "metadata": {},
   "outputs": [],
   "source": [
    "data = pd.read_csv(\"./data/Libra_bank_3months_graph/data.csv\")\n",
    "rename = {\n",
    "    \"id_source\": \"source\",\n",
    "    \"id_destination\": \"target\",\n",
    "    \"cum_amount\": \"amount\",\n",
    "    \"nr_transactions\": \"num_transactions\",\n",
    "    \"nr_alerts\": \"alerts_count\",\n",
    "    \"nr_reports\": \"reports_count\",\n",
    "}\n",
    "\n",
    "data = data.rename(columns=rename)\n",
    "data.loc[:, \"source_\"] = (\n",
    "    data.loc[:, \"source\"].astype(str).apply(lambda x: f\"nid-{int(x)}\")\n",
    ")\n",
    "data.loc[:, \"target_\"] = (\n",
    "    data.loc[:, \"target\"].astype(str).apply(lambda x: f\"nid-{int(x)}\")\n",
    ")\n",
    "del data[\"source\"]\n",
    "del data[\"target\"]\n",
    "data = data.rename(\n",
    "    columns={\n",
    "        \"source_\": \"source\",\n",
    "        \"target_\": \"target\",\n",
    "    }\n",
    ").loc[:, [\"source\", \"target\", \"amount\", \"num_transactions\", \"alerts_count\", \"reports_count\"]]"
   ]
  },
  {
   "cell_type": "code",
   "execution_count": 5,
   "id": "dab14662-5706-45b2-a53b-29b8b0b66760",
   "metadata": {},
   "outputs": [],
   "source": [
    "nodes_data = pd.DataFrame(index=sorted(set(data[\"source\"].tolist() + data[\"target\"].tolist())))\n",
    "nodes_data.index.name = \"key\"\n",
    "\n",
    "w_alerts = int(data[\"alerts_count\"].sum() * 2)\n",
    "w_reports = int(data[\"reports_count\"].sum() * 2)\n",
    "\n",
    "w_alerts_source = data[data[\"alerts_count\"] > 0].groupby(\"source\").agg({\"alerts_count\": \"sum\"}).to_dict()[\"alerts_count\"]\n",
    "w_alerts_target = data[data[\"alerts_count\"] > 0].groupby(\"target\").agg({\"alerts_count\": \"sum\"}).to_dict()[\"alerts_count\"]\n",
    "\n",
    "w_reports_source = data[data[\"reports_count\"] > 0].groupby(\"source\").agg({\"reports_count\": \"sum\"}).to_dict()[\"reports_count\"]\n",
    "w_reports_target = data[data[\"reports_count\"] > 0].groupby(\"target\").agg({\"reports_count\": \"sum\"}).to_dict()[\"reports_count\"]\n",
    "\n",
    "nodes_data.loc[:, \"alert_weight\"] = nodes_data.index.map(\n",
    "    lambda x: (w_alerts_source.get(x, 0) + w_alerts_target.get(x, 0)) / w_alerts\n",
    ")\n",
    "nodes_data.loc[:, \"report_weight\"] = nodes_data.index.map(\n",
    "    lambda x: (w_reports_source.get(x, 0) + w_reports_target.get(x, 0)) / w_reports\n",
    ")\n",
    "alerted_nodes = set(nodes_data[nodes_data[\"alert_weight\"] > 0].index)"
   ]
  },
  {
   "cell_type": "code",
   "execution_count": 6,
   "id": "8c6f09fa-58c6-4f8e-9804-1521ce72d70e",
   "metadata": {},
   "outputs": [
    {
     "name": "stdout",
     "output_type": "stream",
     "text": [
      "385100 385 770 1926 3851\n"
     ]
    }
   ],
   "source": [
    "total_nodes = nodes_data.shape[0]\n",
    "perc_point_1_cnt = round(total_nodes * (0.1 / 100))\n",
    "perc_point_2_cnt = round(total_nodes * (0.2 / 100))\n",
    "perc_point_5_cnt = round(total_nodes * (0.5 / 100))\n",
    "perc_1_cnt = round(total_nodes * (1 / 100))\n",
    "perc_10_cnt = round(total_nodes * (10 / 100))\n",
    "perc_20_cnt = round(total_nodes * (20 / 100))\n",
    "perc_30_cnt = round(total_nodes * (30 / 100))\n",
    "perc_40_cnt = round(total_nodes * (40 / 100))\n",
    "perc_50_cnt = round(total_nodes * (50 / 100))\n",
    "perc_75_cnt = round(total_nodes * (75 / 100))\n",
    "print(total_nodes, perc_point_1_cnt, perc_point_2_cnt, perc_point_5_cnt, perc_1_cnt)"
   ]
  },
  {
   "cell_type": "code",
   "execution_count": 7,
   "id": "92e2f8d1-77e5-4343-99ce-5f392b4b4b60",
   "metadata": {},
   "outputs": [
    {
     "name": "stderr",
     "output_type": "stream",
     "text": [
      "25/07/27 19:24:50 WARN TaskSetManager: Stage 0 contains a task of very large size (3851 KiB). The maximum recommended task size is 1000 KiB.\n",
      "                                                                                "
     ]
    },
    {
     "name": "stdout",
     "output_type": "stream",
     "text": [
      "\n",
      "Processing comm_as_source\n",
      "\n",
      "Processed hop #1 | 472,592 | 213,511\n",
      "Processed hop #2 | 6,730,058 | 194,847\n",
      "Processed hop #3 | 7,805,533 | 186,398\n",
      "Processed hop #4 | 8,894,931 | 185,538\n",
      "Processed hop #5 | 8,889,368 | 185,321\n",
      "\n",
      "Processing comm_as_target\n",
      "\n",
      "Processed hop #1 | 414,376 | 221,458\n",
      "Processed hop #2 | 6,111,806 | 201,104\n",
      "Processed hop #3 | 7,163,788 | 188,404\n",
      "Processed hop #4 | 8,469,276 | 186,909\n",
      "Processed hop #5 | 8,208,835 | 183,360\n",
      "\n",
      "Processing comm_as_passthrough\n",
      "\n",
      "Processed hop #1 | 251,417 | 49,869\n",
      "Processed hop #2 | 1,310,227 | 42,290\n",
      "Processed hop #3 | 1,725,981 | 40,671\n",
      "Processed hop #4 | 1,918,895 | 40,412\n",
      "Processed hop #5 | 1,952,010 | 40,363\n",
      "\n",
      "Processing comm_as_passthrough_reverse\n",
      "\n",
      "Processed hop #1 | 197,559 | 49,869\n",
      "Processed hop #2 | 1,081,845 | 41,267\n",
      "Processed hop #3 | 1,434,805 | 38,874\n",
      "Processed hop #4 | 1,719,403 | 38,462\n",
      "Processed hop #5 | 1,722,034 | 38,030\n",
      "\n",
      "\n",
      "comm_as_source_features\n",
      "\n",
      "CPU times: user 32.3 s, sys: 354 ms, total: 32.7 s\n",
      "Wall time: 32.7 s\n",
      "\n",
      "comm_as_target_features\n",
      "\n",
      "CPU times: user 32.3 s, sys: 85.1 ms, total: 32.4 s\n",
      "Wall time: 32.4 s\n",
      "\n",
      "comm_as_passthrough_features\n",
      "\n",
      "CPU times: user 7.12 s, sys: 38.1 ms, total: 7.16 s\n",
      "Wall time: 7.16 s\n",
      "\n",
      "comm_as_passthrough_features_reverse\n",
      "\n",
      "CPU times: user 6.7 s, sys: 31 ms, total: 6.73 s\n",
      "Wall time: 6.73 s\n",
      "\n",
      "\n",
      "CPU times: user 7min 39s, sys: 35.8 s, total: 8min 15s\n",
      "Wall time: 8min 20s\n",
      "Constructing Leiden communities\n",
      "CPU times: user 3min 48s, sys: 1.23 s, total: 3min 49s\n",
      "Wall time: 3min 49s\n",
      "Constructing 1-hop communities\n"
     ]
    },
    {
     "name": "stderr",
     "output_type": "stream",
     "text": [
      "                                                                                "
     ]
    },
    {
     "name": "stdout",
     "output_type": "stream",
     "text": [
      "CPU times: user 2.02 s, sys: 78.8 ms, total: 2.1 s\n",
      "Wall time: 23.2 s\n",
      "Leiden communitites features creation\n"
     ]
    },
    {
     "name": "stderr",
     "output_type": "stream",
     "text": [
      "                                                                                "
     ]
    },
    {
     "name": "stdout",
     "output_type": "stream",
     "text": [
      "CPU times: user 5.02 s, sys: 657 ms, total: 5.68 s\n",
      "Wall time: 38.9 s\n",
      "1-hop communitites features creation\n"
     ]
    },
    {
     "name": "stderr",
     "output_type": "stream",
     "text": [
      "                                                                                "
     ]
    },
    {
     "name": "stdout",
     "output_type": "stream",
     "text": [
      "CPU times: user 2min 16s, sys: 23.3 s, total: 2min 39s\n",
      "Wall time: 5min 24s\n",
      "1-hop-source features creation\n"
     ]
    },
    {
     "name": "stderr",
     "output_type": "stream",
     "text": [
      "25/07/27 19:43:26 WARN TaskSetManager: Stage 12 contains a task of very large size (6867 KiB). The maximum recommended task size is 1000 KiB.\n",
      "                                                                                "
     ]
    },
    {
     "name": "stdout",
     "output_type": "stream",
     "text": [
      "CPU times: user 1.65 s, sys: 223 ms, total: 1.87 s\n",
      "Wall time: 1min 12s\n",
      "1-hop-target features creation\n"
     ]
    },
    {
     "name": "stderr",
     "output_type": "stream",
     "text": [
      "25/07/27 19:44:38 WARN TaskSetManager: Stage 15 contains a task of very large size (6961 KiB). The maximum recommended task size is 1000 KiB.\n",
      "                                                                                "
     ]
    },
    {
     "name": "stdout",
     "output_type": "stream",
     "text": [
      "CPU times: user 1.69 s, sys: 241 ms, total: 1.94 s\n",
      "Wall time: 1min 15s\n",
      "Features: (385100, 176)\n",
      "Deleted 10 constant columns\n",
      "Script executed in 0:21:09\n",
      "Training the model\n",
      "CPU times: user 11min 8s, sys: 50.6 s, total: 11min 59s\n",
      "Wall time: 11min 59s\n",
      "CPU times: user 25min 13s, sys: 1min 53s, total: 27min 6s\n",
      "Wall time: 33min 13s\n"
     ]
    }
   ],
   "source": [
    "%%time\n",
    "\n",
    "candidates = nodes_data.index.tolist()\n",
    "data_in_scope = data.copy(deep=True)\n",
    "data_in_scope = data_in_scope.set_index([\"source\", \"target\"]).join(\n",
    "    get_weights(data_in_scope).set_index([\"source\", \"target\"]), how=\"left\"\n",
    ").reset_index()\n",
    "data_in_scope.loc[:, \"amount_weighted\"] = (\n",
    "    data_in_scope.loc[:, \"amount\"] * \n",
    "    (data_in_scope.loc[:, \"weight\"] / data_in_scope.loc[:, \"weight\"].max())\n",
    ")\n",
    "\n",
    "%run model.ipynb\n",
    "\n",
    "anomalies_main = anomalies.copy(deep=True)"
   ]
  },
  {
   "cell_type": "code",
   "execution_count": 8,
   "id": "4fd1182b-1edb-4d25-b16f-50c63c128e26",
   "metadata": {},
   "outputs": [],
   "source": [
    "graph_global = ig.Graph.DataFrame(data[[\"source\", \"target\"]], use_vids=False, directed=True)"
   ]
  },
  {
   "cell_type": "code",
   "execution_count": 9,
   "id": "d8fbe31b-5c86-4bf0-aac0-f02144940b40",
   "metadata": {},
   "outputs": [],
   "source": [
    "def add_predicted_alert_weight(anomalies_input, perc_count_in):\n",
    "    anomalies_perc_x = anomalies_input.copy(deep=True)\n",
    "    index = anomalies_perc_x.head(perc_count_in).index.tolist()\n",
    "    anomalies_perc_x = anomalies_perc_x.loc[index, :]\n",
    "    anomalies_perc_x.loc[:, \"predicted_alert_weight\"] = anomalies_perc_x.loc[:, \"alert_weight\"]\n",
    "    anomalies_perc_x.loc[:, \"predicted_report_weight\"] = anomalies_perc_x.loc[:, \"report_weight\"]\n",
    "    return anomalies_perc_x"
   ]
  },
  {
   "cell_type": "code",
   "execution_count": 10,
   "id": "d29c8983-063c-4fbe-8052-f1352de5772f",
   "metadata": {},
   "outputs": [],
   "source": [
    "communities_1_hop_dict = dict(communities_1_hop)\n",
    "\n",
    "comms_1_hop_0_1_perc = [communities_1_hop_dict[x] for x in add_predicted_alert_weight(anomalies_main, perc_point_1_cnt).index]\n",
    "comms_1_hop_0_2_perc = [communities_1_hop_dict[x] for x in add_predicted_alert_weight(anomalies_main, perc_point_2_cnt).index]\n",
    "comms_1_hop_0_5_perc = [communities_1_hop_dict[x] for x in add_predicted_alert_weight(anomalies_main, perc_point_5_cnt).index]\n",
    "comms_1_hop_1_perc = [communities_1_hop_dict[x] for x in add_predicted_alert_weight(anomalies_main, perc_1_cnt).index]\n",
    "\n",
    "sizes_1_hop_0_1_perc = [len(x) for x in comms_1_hop_0_1_perc]\n",
    "sizes_1_hop_0_2_perc = [len(x) for x in comms_1_hop_0_2_perc]\n",
    "sizes_1_hop_0_5_perc = [len(x) for x in comms_1_hop_0_5_perc]\n",
    "sizes_1_hop_1_perc = [len(x) for x in comms_1_hop_1_perc]\n",
    "\n",
    "sizes_edge_1_hop_0_1_perc = [graph_global.induced_subgraph(x).ecount() for x in comms_1_hop_0_1_perc]\n",
    "sizes_edge_1_hop_0_2_perc = [graph_global.induced_subgraph(x).ecount() for x in comms_1_hop_0_2_perc]\n",
    "sizes_edge_1_hop_0_5_perc = [graph_global.induced_subgraph(x).ecount() for x in comms_1_hop_0_5_perc]\n",
    "sizes_edge_1_hop_1_perc = [graph_global.induced_subgraph(x).ecount() for x in comms_1_hop_1_perc]\n",
    "\n",
    "tpr = np.cumsum(add_predicted_alert_weight(anomalies_main, perc_1_cnt)[\"predicted_alert_weight\"]).values\n",
    "tpr_report = np.cumsum(add_predicted_alert_weight(anomalies_main, perc_1_cnt)[\"predicted_report_weight\"]).values\n",
    "\n",
    "results = [{\n",
    "    \"rectify_perc\": 1.0,\n",
    "    \"sizes_1_hop_alerted\": sizes_1_hop_alerted,\n",
    "    \"leiden_size_max\": np.max(sizes_leiden),\n",
    "    \"leiden_size_mean\": np.mean(sizes_leiden),\n",
    "    \"leiden_size_median\": np.median(sizes_leiden),\n",
    "    \"1_hop_size_max\": np.max(sizes_1_hop),\n",
    "    \"1_hop_size_mean\": np.mean(sizes_1_hop),\n",
    "    \"1_hop_size_median\": np.median(sizes_1_hop),\n",
    "    \"0.1%\": add_predicted_alert_weight(anomalies_main, perc_point_1_cnt)[\"predicted_alert_weight\"].sum(),\n",
    "    \"0.2%\": add_predicted_alert_weight(anomalies_main, perc_point_2_cnt)[\"predicted_alert_weight\"].sum(),\n",
    "    \"0.5%\": add_predicted_alert_weight(anomalies_main, perc_point_5_cnt)[\"predicted_alert_weight\"].sum(),\n",
    "    \"1%\": add_predicted_alert_weight(anomalies_main, perc_1_cnt)[\"predicted_alert_weight\"].sum(),\n",
    "    \"tpr_1%\": tpr,\n",
    "    \"tpr_auc_1%\": np.mean(tpr),\n",
    "    \"report_0.1%\": add_predicted_alert_weight(anomalies_main, perc_point_1_cnt)[\"predicted_report_weight\"].sum(),\n",
    "    \"report_0.2%\": add_predicted_alert_weight(anomalies_main, perc_point_2_cnt)[\"predicted_report_weight\"].sum(),\n",
    "    \"report_0.5%\": add_predicted_alert_weight(anomalies_main, perc_point_5_cnt)[\"predicted_report_weight\"].sum(),\n",
    "    \"report_1%\": add_predicted_alert_weight(anomalies_main, perc_1_cnt)[\"predicted_report_weight\"].sum(),\n",
    "    \"tpr_report_1%\": tpr_report,\n",
    "    \"tpr_report_auc_1%\": np.mean(tpr_report),\n",
    "    \"max_1_hop_0_1_perc\": np.max(sizes_1_hop_0_1_perc),\n",
    "    \"max_1_hop_0_2_perc\": np.max(sizes_1_hop_0_2_perc),\n",
    "    \"max_1_hop_0_5_perc\": np.max(sizes_1_hop_0_5_perc),\n",
    "    \"max_1_hop_1_perc\": np.max(sizes_1_hop_1_perc),\n",
    "    \"mean_1_hop_0_1_perc\": np.mean(sizes_1_hop_0_1_perc),\n",
    "    \"mean_1_hop_0_2_perc\": np.mean(sizes_1_hop_0_2_perc),\n",
    "    \"mean_1_hop_0_5_perc\": np.mean(sizes_1_hop_0_5_perc),\n",
    "    \"mean_1_hop_1_perc\": np.mean(sizes_1_hop_1_perc),\n",
    "    \"median_1_hop_0_1_perc\": np.median(sizes_1_hop_0_1_perc),\n",
    "    \"median_1_hop_0_2_perc\": np.median(sizes_1_hop_0_2_perc),\n",
    "    \"median_1_hop_0_5_perc\": np.median(sizes_1_hop_0_5_perc),\n",
    "    \"median_1_hop_1_perc\": np.median(sizes_1_hop_1_perc),\n",
    "    \"max_edges_1_hop_0_1_perc\": np.max(sizes_edge_1_hop_0_1_perc),\n",
    "    \"max_edges_1_hop_0_2_perc\": np.max(sizes_edge_1_hop_0_2_perc),\n",
    "    \"max_edges_1_hop_0_5_perc\": np.max(sizes_edge_1_hop_0_5_perc),\n",
    "    \"max_edges_1_hop_1_perc\": np.max(sizes_edge_1_hop_1_perc),\n",
    "    \"mean_edges_1_hop_0_1_perc\": np.mean(sizes_edge_1_hop_0_1_perc),\n",
    "    \"mean_edges_1_hop_0_2_perc\": np.mean(sizes_edge_1_hop_0_2_perc),\n",
    "    \"mean_edges_1_hop_0_5_perc\": np.mean(sizes_edge_1_hop_0_5_perc),\n",
    "    \"mean_edges_1_hop_1_perc\": np.mean(sizes_edge_1_hop_1_perc),\n",
    "    \"median_edges_1_hop_0_1_perc\": np.median(sizes_edge_1_hop_0_1_perc),\n",
    "    \"median_edges_1_hop_0_2_perc\": np.median(sizes_edge_1_hop_0_2_perc),\n",
    "    \"median_edges_1_hop_0_5_perc\": np.median(sizes_edge_1_hop_0_5_perc),\n",
    "    \"median_edges_1_hop_1_perc\": np.median(sizes_edge_1_hop_1_perc),\n",
    "}]"
   ]
  },
  {
   "cell_type": "code",
   "execution_count": 11,
   "id": "acfe80cc-d4c9-4c36-831f-a3c0a89f5e6e",
   "metadata": {},
   "outputs": [
    {
     "name": "stdout",
     "output_type": "stream",
     "text": [
      "====================================================================================================\n",
      "0.5 192550 190888 385100 (399632, 6)\n",
      "====================================================================================================\n"
     ]
    },
    {
     "name": "stderr",
     "output_type": "stream",
     "text": [
      "25/07/27 19:58:00 WARN TaskSetManager: Stage 18 contains a task of very large size (2601 KiB). The maximum recommended task size is 1000 KiB.\n",
      "                                                                                "
     ]
    },
    {
     "name": "stdout",
     "output_type": "stream",
     "text": [
      "\n",
      "Processing comm_as_source\n",
      "\n",
      "Processed hop #1 | 312,453 | 107,423\n",
      "Processed hop #2 | 3,643,250 | 99,576\n",
      "Processed hop #3 | 4,308,504 | 97,712\n",
      "Processed hop #4 | 4,704,226 | 97,440\n",
      "Processed hop #5 | 4,765,563 | 97,391\n",
      "\n",
      "Processing comm_as_target\n",
      "\n",
      "Processed hop #1 | 273,470 | 128,513\n",
      "Processed hop #2 | 4,189,933 | 119,511\n",
      "Processed hop #3 | 4,839,578 | 116,319\n",
      "Processed hop #4 | 5,415,053 | 115,812\n",
      "Processed hop #5 | 5,402,629 | 115,087\n",
      "\n",
      "Processing comm_as_passthrough\n",
      "\n",
      "Processed hop #1 | 200,108 | 45,048\n",
      "Processed hop #2 | 1,218,203 | 40,216\n",
      "Processed hop #3 | 1,647,635 | 39,272\n",
      "Processed hop #4 | 1,854,614 | 39,098\n",
      "Processed hop #5 | 1,897,073 | 39,068\n",
      "\n",
      "Processing comm_as_passthrough_reverse\n",
      "\n",
      "Processed hop #1 | 151,125 | 45,048\n",
      "Processed hop #2 | 969,383 | 39,051\n",
      "Processed hop #3 | 1,362,763 | 37,419\n",
      "Processed hop #4 | 1,648,139 | 37,122\n",
      "Processed hop #5 | 1,689,157 | 36,889\n",
      "\n",
      "\n",
      "comm_as_source_features\n",
      "\n",
      "CPU times: user 16.9 s, sys: 132 ms, total: 17 s\n",
      "Wall time: 17 s\n",
      "\n",
      "comm_as_target_features\n",
      "\n",
      "CPU times: user 19.8 s, sys: 55.1 ms, total: 19.9 s\n",
      "Wall time: 19.9 s\n",
      "\n",
      "comm_as_passthrough_features\n",
      "\n",
      "CPU times: user 6.72 s, sys: 23.4 ms, total: 6.75 s\n",
      "Wall time: 6.75 s\n",
      "\n",
      "comm_as_passthrough_features_reverse\n",
      "\n",
      "CPU times: user 6.32 s, sys: 24.5 ms, total: 6.34 s\n",
      "Wall time: 6.34 s\n",
      "\n",
      "\n",
      "CPU times: user 4min 57s, sys: 23.6 s, total: 5min 21s\n",
      "Wall time: 5min 23s\n",
      "Constructing Leiden communities\n",
      "CPU times: user 1min 59s, sys: 632 ms, total: 2min\n",
      "Wall time: 2min\n",
      "Constructing 1-hop communities\n"
     ]
    },
    {
     "name": "stderr",
     "output_type": "stream",
     "text": [
      "                                                                                "
     ]
    },
    {
     "name": "stdout",
     "output_type": "stream",
     "text": [
      "CPU times: user 1.45 s, sys: 26.1 ms, total: 1.48 s\n",
      "Wall time: 6.91 s\n",
      "Leiden communitites features creation\n"
     ]
    },
    {
     "name": "stderr",
     "output_type": "stream",
     "text": [
      "                                                                                "
     ]
    },
    {
     "name": "stdout",
     "output_type": "stream",
     "text": [
      "CPU times: user 2.17 s, sys: 69.5 ms, total: 2.24 s\n",
      "Wall time: 27.4 s\n",
      "1-hop communitites features creation\n"
     ]
    },
    {
     "name": "stderr",
     "output_type": "stream",
     "text": [
      "                                                                                "
     ]
    },
    {
     "name": "stdout",
     "output_type": "stream",
     "text": [
      "CPU times: user 1min 5s, sys: 3.11 s, total: 1min 8s\n",
      "Wall time: 2min 30s\n",
      "1-hop-source features creation\n"
     ]
    },
    {
     "name": "stderr",
     "output_type": "stream",
     "text": [
      "25/07/27 20:08:29 WARN TaskSetManager: Stage 30 contains a task of very large size (4641 KiB). The maximum recommended task size is 1000 KiB.\n",
      "                                                                                "
     ]
    },
    {
     "name": "stdout",
     "output_type": "stream",
     "text": [
      "CPU times: user 917 ms, sys: 142 ms, total: 1.06 s\n",
      "Wall time: 36.6 s\n",
      "1-hop-target features creation\n"
     ]
    },
    {
     "name": "stderr",
     "output_type": "stream",
     "text": [
      "25/07/27 20:09:05 WARN TaskSetManager: Stage 33 contains a task of very large size (4683 KiB). The maximum recommended task size is 1000 KiB.\n",
      "                                                                                "
     ]
    },
    {
     "name": "stdout",
     "output_type": "stream",
     "text": [
      "CPU times: user 1.08 s, sys: 149 ms, total: 1.23 s\n",
      "Wall time: 43.2 s\n",
      "Features: (190888, 176)\n",
      "Deleted 10 constant columns\n",
      "Script executed in 0:11:51\n",
      "Training the model\n",
      "CPU times: user 6min 29s, sys: 13.6 s, total: 6min 43s\n",
      "Wall time: 6min 43s\n",
      "====================================================================================================\n",
      "0.25 95444 95297 385100 (290660, 6)\n",
      "====================================================================================================\n"
     ]
    },
    {
     "name": "stderr",
     "output_type": "stream",
     "text": [
      "25/07/27 20:16:36 WARN TaskSetManager: Stage 36 contains a task of very large size (1904 KiB). The maximum recommended task size is 1000 KiB.\n",
      "                                                                                "
     ]
    },
    {
     "name": "stdout",
     "output_type": "stream",
     "text": [
      "\n",
      "Processing comm_as_source\n",
      "\n",
      "Processed hop #1 | 251,623 | 66,828\n",
      "Processed hop #2 | 1,981,203 | 61,495\n",
      "Processed hop #3 | 2,569,370 | 60,294\n",
      "Processed hop #4 | 2,869,567 | 60,117\n",
      "Processed hop #5 | 2,929,618 | 60,082\n",
      "\n",
      "Processing comm_as_target\n",
      "\n",
      "Processed hop #1 | 200,622 | 70,279\n",
      "Processed hop #2 | 1,743,235 | 63,785\n",
      "Processed hop #3 | 2,293,119 | 61,753\n",
      "Processed hop #4 | 2,763,570 | 61,391\n",
      "Processed hop #5 | 2,841,303 | 61,204\n",
      "\n",
      "Processing comm_as_passthrough\n",
      "\n",
      "Processed hop #1 | 184,826 | 41,810\n",
      "Processed hop #2 | 1,149,481 | 38,118\n",
      "Processed hop #3 | 1,577,545 | 37,441\n",
      "Processed hop #4 | 1,773,060 | 37,318\n",
      "Processed hop #5 | 1,813,913 | 37,298\n",
      "\n",
      "Processing comm_as_passthrough_reverse\n",
      "\n",
      "Processed hop #1 | 139,328 | 41,810\n",
      "Processed hop #2 | 906,947 | 36,978\n",
      "Processed hop #3 | 1,298,579 | 35,775\n",
      "Processed hop #4 | 1,578,655 | 35,541\n",
      "Processed hop #5 | 1,633,546 | 35,412\n",
      "\n",
      "\n",
      "comm_as_source_features\n",
      "\n",
      "CPU times: user 10.4 s, sys: 60.3 ms, total: 10.4 s\n",
      "Wall time: 10.4 s\n",
      "\n",
      "comm_as_target_features\n",
      "\n",
      "CPU times: user 10.4 s, sys: 30.3 ms, total: 10.5 s\n",
      "Wall time: 10.5 s\n",
      "\n",
      "comm_as_passthrough_features\n",
      "\n",
      "CPU times: user 6.47 s, sys: 22.4 ms, total: 6.49 s\n",
      "Wall time: 6.49 s\n",
      "\n",
      "comm_as_passthrough_features_reverse\n",
      "\n",
      "CPU times: user 6.11 s, sys: 24.3 ms, total: 6.14 s\n",
      "Wall time: 6.14 s\n",
      "\n",
      "\n",
      "CPU times: user 3min 15s, sys: 11.8 s, total: 3min 26s\n",
      "Wall time: 3min 28s\n",
      "Constructing Leiden communities\n",
      "CPU times: user 1min 17s, sys: 435 ms, total: 1min 18s\n",
      "Wall time: 1min 18s\n",
      "Constructing 1-hop communities\n"
     ]
    },
    {
     "name": "stderr",
     "output_type": "stream",
     "text": [
      "                                                                                "
     ]
    },
    {
     "name": "stdout",
     "output_type": "stream",
     "text": [
      "CPU times: user 1 s, sys: 21.8 ms, total: 1.03 s\n",
      "Wall time: 5.67 s\n",
      "Leiden communitites features creation\n"
     ]
    },
    {
     "name": "stderr",
     "output_type": "stream",
     "text": [
      "                                                                                "
     ]
    },
    {
     "name": "stdout",
     "output_type": "stream",
     "text": [
      "CPU times: user 1.28 s, sys: 66.3 ms, total: 1.35 s\n",
      "Wall time: 5.97 s\n",
      "1-hop communitites features creation\n"
     ]
    },
    {
     "name": "stderr",
     "output_type": "stream",
     "text": [
      "                                                                                "
     ]
    },
    {
     "name": "stdout",
     "output_type": "stream",
     "text": [
      "CPU times: user 30.9 s, sys: 1.08 s, total: 32 s\n",
      "Wall time: 1min 23s\n",
      "1-hop-source features creation\n"
     ]
    },
    {
     "name": "stderr",
     "output_type": "stream",
     "text": [
      "25/07/27 20:22:58 WARN TaskSetManager: Stage 48 contains a task of very large size (3397 KiB). The maximum recommended task size is 1000 KiB.\n",
      "                                                                                "
     ]
    },
    {
     "name": "stdout",
     "output_type": "stream",
     "text": [
      "CPU times: user 575 ms, sys: 90.7 ms, total: 666 ms\n",
      "Wall time: 24.9 s\n",
      "1-hop-target features creation\n"
     ]
    },
    {
     "name": "stderr",
     "output_type": "stream",
     "text": [
      "25/07/27 20:23:23 WARN TaskSetManager: Stage 51 contains a task of very large size (3418 KiB). The maximum recommended task size is 1000 KiB.\n",
      "                                                                                "
     ]
    },
    {
     "name": "stdout",
     "output_type": "stream",
     "text": [
      "CPU times: user 594 ms, sys: 94.5 ms, total: 689 ms\n",
      "Wall time: 25.1 s\n",
      "Features: (95297, 176)\n",
      "Deleted 10 constant columns\n",
      "Script executed in 0:07:13\n",
      "Training the model\n",
      "CPU times: user 3min 49s, sys: 6.91 s, total: 3min 56s\n",
      "Wall time: 3min 56s\n",
      "====================================================================================================\n",
      "0.12 47648 47422 385100 (185190, 6)\n",
      "====================================================================================================\n"
     ]
    },
    {
     "name": "stderr",
     "output_type": "stream",
     "text": [
      "25/07/27 20:27:47 WARN TaskSetManager: Stage 54 contains a task of very large size (1222 KiB). The maximum recommended task size is 1000 KiB.\n",
      "                                                                                "
     ]
    },
    {
     "name": "stdout",
     "output_type": "stream",
     "text": [
      "\n",
      "Processing comm_as_source\n",
      "\n",
      "Processed hop #1 | 158,229 | 33,143\n",
      "Processed hop #2 | 1,009,465 | 31,474\n",
      "Processed hop #3 | 1,355,920 | 31,027\n",
      "Processed hop #4 | 1,486,864 | 30,976\n",
      "Processed hop #5 | 1,517,053 | 30,964\n",
      "\n",
      "Processing comm_as_target\n",
      "\n",
      "Processed hop #1 | 126,542 | 38,144\n",
      "Processed hop #2 | 1,103,849 | 35,865\n",
      "Processed hop #3 | 1,408,924 | 35,171\n",
      "Processed hop #4 | 1,613,936 | 35,048\n",
      "Processed hop #5 | 1,667,317 | 35,006\n",
      "\n",
      "Processing comm_as_passthrough\n",
      "\n",
      "Processed hop #1 | 125,953 | 23,865\n",
      "Processed hop #2 | 704,784 | 22,766\n",
      "Processed hop #3 | 978,368 | 22,507\n",
      "Processed hop #4 | 1,075,294 | 22,476\n",
      "Processed hop #5 | 1,098,645 | 22,471\n",
      "\n",
      "Processing comm_as_passthrough_reverse\n",
      "\n",
      "Processed hop #1 | 94,323 | 23,865\n",
      "Processed hop #2 | 553,409 | 22,132\n",
      "Processed hop #3 | 808,255 | 21,682\n",
      "Processed hop #4 | 968,340 | 21,595\n",
      "Processed hop #5 | 1,014,271 | 21,576\n",
      "\n",
      "\n",
      "comm_as_source_features\n",
      "\n",
      "CPU times: user 5.33 s, sys: 32.2 ms, total: 5.36 s\n",
      "Wall time: 5.36 s\n",
      "\n",
      "comm_as_target_features\n",
      "\n",
      "CPU times: user 5.92 s, sys: 25.8 ms, total: 5.94 s\n",
      "Wall time: 5.95 s\n",
      "\n",
      "comm_as_passthrough_features\n",
      "\n",
      "CPU times: user 3.84 s, sys: 18.2 ms, total: 3.86 s\n",
      "Wall time: 3.86 s\n",
      "\n",
      "comm_as_passthrough_features_reverse\n",
      "\n",
      "CPU times: user 3.6 s, sys: 19.3 ms, total: 3.62 s\n",
      "Wall time: 3.62 s\n",
      "\n",
      "\n",
      "CPU times: user 1min 51s, sys: 7.61 s, total: 1min 59s\n",
      "Wall time: 2min\n",
      "Constructing Leiden communities\n",
      "CPU times: user 43.6 s, sys: 383 ms, total: 44 s\n",
      "Wall time: 44.1 s\n",
      "Constructing 1-hop communities\n"
     ]
    },
    {
     "name": "stderr",
     "output_type": "stream",
     "text": [
      "                                                                                "
     ]
    },
    {
     "name": "stdout",
     "output_type": "stream",
     "text": [
      "CPU times: user 211 ms, sys: 17.2 ms, total: 228 ms\n",
      "Wall time: 1.54 s\n",
      "Leiden communitites features creation\n"
     ]
    },
    {
     "name": "stderr",
     "output_type": "stream",
     "text": [
      "                                                                                "
     ]
    },
    {
     "name": "stdout",
     "output_type": "stream",
     "text": [
      "CPU times: user 812 ms, sys: 33.3 ms, total: 845 ms\n",
      "Wall time: 3.64 s\n",
      "1-hop communitites features creation\n"
     ]
    },
    {
     "name": "stderr",
     "output_type": "stream",
     "text": [
      "                                                                                "
     ]
    },
    {
     "name": "stdout",
     "output_type": "stream",
     "text": [
      "CPU times: user 15.9 s, sys: 1.36 s, total: 17.3 s\n",
      "Wall time: 43.6 s\n",
      "1-hop-source features creation\n"
     ]
    },
    {
     "name": "stderr",
     "output_type": "stream",
     "text": [
      "25/07/27 20:31:21 WARN TaskSetManager: Stage 66 contains a task of very large size (2178 KiB). The maximum recommended task size is 1000 KiB.\n",
      "                                                                                "
     ]
    },
    {
     "name": "stdout",
     "output_type": "stream",
     "text": [
      "CPU times: user 288 ms, sys: 51.3 ms, total: 339 ms\n",
      "Wall time: 12.9 s\n",
      "1-hop-target features creation\n"
     ]
    },
    {
     "name": "stderr",
     "output_type": "stream",
     "text": [
      "25/07/27 20:31:34 WARN TaskSetManager: Stage 69 contains a task of very large size (2186 KiB). The maximum recommended task size is 1000 KiB.\n",
      "                                                                                "
     ]
    },
    {
     "name": "stdout",
     "output_type": "stream",
     "text": [
      "CPU times: user 329 ms, sys: 53.5 ms, total: 382 ms\n",
      "Wall time: 13.7 s\n",
      "Features: (47422, 176)\n",
      "Deleted 10 constant columns\n",
      "Script executed in 0:04:01\n",
      "Training the model\n",
      "CPU times: user 2min 28s, sys: 2.04 s, total: 2min 30s\n",
      "Wall time: 2min 31s\n",
      "CPU times: user 29min 6s, sys: 1min 14s, total: 30min 21s\n",
      "Wall time: 36min 22s\n"
     ]
    }
   ],
   "source": [
    "%%time\n",
    "\n",
    "anomalies = anomalies_main.copy(deep=True)\n",
    "for perc in [0.5, 0.5, 0.5]:\n",
    "    total_nodes = len(anomalies)\n",
    "    perc_count = round(perc * total_nodes)\n",
    "    rectify_perc = round(perc_count / len(anomalies_main), 2)\n",
    "    candidates = add_predicted_alert_weight(anomalies, perc_count).index.tolist()\n",
    "    filter_ = data[\"source\"].isin(candidates) & data[\"target\"].isin(candidates)\n",
    "    data_in_scope = data.loc[filter_, :]\n",
    "    candidates = sorted(set(data_in_scope[\"source\"].unique()).union(data_in_scope[\"target\"].unique()))\n",
    "    print(\"=\" * 100)\n",
    "    print(rectify_perc, perc_count, len(candidates), len(anomalies_main), data_in_scope.shape)\n",
    "    print(\"=\" * 100)\n",
    "    data_in_scope = data_in_scope.set_index([\"source\", \"target\"]).join(\n",
    "        get_weights(data_in_scope).set_index([\"source\", \"target\"]), how=\"left\"\n",
    "    ).reset_index()\n",
    "    data_in_scope.loc[:, \"amount_weighted\"] = data_in_scope.loc[:, \"amount\"] * data_in_scope.loc[:, \"weight\"]\n",
    "    \n",
    "    %run model.ipynb\n",
    "\n",
    "    communities_1_hop_dict = dict(communities_1_hop)\n",
    "\n",
    "    comms_1_hop_0_1_perc = [communities_1_hop_dict[x] for x in add_predicted_alert_weight(anomalies, perc_point_1_cnt).index]\n",
    "    comms_1_hop_0_2_perc = [communities_1_hop_dict[x] for x in add_predicted_alert_weight(anomalies, perc_point_2_cnt).index]\n",
    "    comms_1_hop_0_5_perc = [communities_1_hop_dict[x] for x in add_predicted_alert_weight(anomalies, perc_point_5_cnt).index]\n",
    "    comms_1_hop_1_perc = [communities_1_hop_dict[x] for x in add_predicted_alert_weight(anomalies, perc_1_cnt).index]\n",
    "    \n",
    "    sizes_1_hop_0_1_perc = [len(x) for x in comms_1_hop_0_1_perc]\n",
    "    sizes_1_hop_0_2_perc = [len(x) for x in comms_1_hop_0_2_perc]\n",
    "    sizes_1_hop_0_5_perc = [len(x) for x in comms_1_hop_0_5_perc]\n",
    "    sizes_1_hop_1_perc = [len(x) for x in comms_1_hop_1_perc]\n",
    "    \n",
    "    sizes_edge_1_hop_0_1_perc = [graph_global.induced_subgraph(x).ecount() for x in comms_1_hop_0_1_perc]\n",
    "    sizes_edge_1_hop_0_2_perc = [graph_global.induced_subgraph(x).ecount() for x in comms_1_hop_0_2_perc]\n",
    "    sizes_edge_1_hop_0_5_perc = [graph_global.induced_subgraph(x).ecount() for x in comms_1_hop_0_5_perc]\n",
    "    sizes_edge_1_hop_1_perc = [graph_global.induced_subgraph(x).ecount() for x in comms_1_hop_1_perc]\n",
    "\n",
    "    tpr = np.cumsum(add_predicted_alert_weight(anomalies, perc_1_cnt)[\"predicted_alert_weight\"]).values\n",
    "    tpr_report = np.cumsum(add_predicted_alert_weight(anomalies, perc_1_cnt)[\"predicted_report_weight\"]).values\n",
    "\n",
    "    results.append({\n",
    "        \"rectify_perc\": rectify_perc,\n",
    "        \"sizes_1_hop_alerted\": sizes_1_hop_alerted,\n",
    "        \"leiden_size_max\": np.max(sizes_leiden),\n",
    "        \"leiden_size_mean\": np.mean(sizes_leiden),\n",
    "        \"leiden_size_median\": np.median(sizes_leiden),\n",
    "        \"1_hop_size_max\": np.max(sizes_1_hop),\n",
    "        \"1_hop_size_mean\": np.mean(sizes_1_hop),\n",
    "        \"1_hop_size_median\": np.median(sizes_1_hop),\n",
    "        \"0.1%\": add_predicted_alert_weight(anomalies, perc_point_1_cnt)[\"predicted_alert_weight\"].sum(),\n",
    "        \"0.2%\": add_predicted_alert_weight(anomalies, perc_point_2_cnt)[\"predicted_alert_weight\"].sum(),\n",
    "        \"0.5%\": add_predicted_alert_weight(anomalies, perc_point_5_cnt)[\"predicted_alert_weight\"].sum(),\n",
    "        \"1%\": add_predicted_alert_weight(anomalies, perc_1_cnt)[\"predicted_alert_weight\"].sum(),\n",
    "        \"tpr_1%\": tpr,\n",
    "        \"tpr_auc_1%\": np.mean(tpr),\n",
    "        \"report_0.1%\": add_predicted_alert_weight(anomalies, perc_point_1_cnt)[\"predicted_report_weight\"].sum(),\n",
    "        \"report_0.2%\": add_predicted_alert_weight(anomalies, perc_point_2_cnt)[\"predicted_report_weight\"].sum(),\n",
    "        \"report_0.5%\": add_predicted_alert_weight(anomalies, perc_point_5_cnt)[\"predicted_report_weight\"].sum(),\n",
    "        \"report_1%\": add_predicted_alert_weight(anomalies, perc_1_cnt)[\"predicted_report_weight\"].sum(),\n",
    "        \"tpr_report_1%\": tpr_report,\n",
    "        \"tpr_report_auc_1%\": np.mean(tpr_report),\n",
    "        \"max_1_hop_0_1_perc\": np.max(sizes_1_hop_0_1_perc),\n",
    "        \"max_1_hop_0_2_perc\": np.max(sizes_1_hop_0_2_perc),\n",
    "        \"max_1_hop_0_5_perc\": np.max(sizes_1_hop_0_5_perc),\n",
    "        \"max_1_hop_1_perc\": np.max(sizes_1_hop_1_perc),\n",
    "        \"mean_1_hop_0_1_perc\": np.mean(sizes_1_hop_0_1_perc),\n",
    "        \"mean_1_hop_0_2_perc\": np.mean(sizes_1_hop_0_2_perc),\n",
    "        \"mean_1_hop_0_5_perc\": np.mean(sizes_1_hop_0_5_perc),\n",
    "        \"mean_1_hop_1_perc\": np.mean(sizes_1_hop_1_perc),\n",
    "        \"median_1_hop_0_1_perc\": np.median(sizes_1_hop_0_1_perc),\n",
    "        \"median_1_hop_0_2_perc\": np.median(sizes_1_hop_0_2_perc),\n",
    "        \"median_1_hop_0_5_perc\": np.median(sizes_1_hop_0_5_perc),\n",
    "        \"median_1_hop_1_perc\": np.median(sizes_1_hop_1_perc),\n",
    "        \"max_edges_1_hop_0_1_perc\": np.max(sizes_edge_1_hop_0_1_perc),\n",
    "        \"max_edges_1_hop_0_2_perc\": np.max(sizes_edge_1_hop_0_2_perc),\n",
    "        \"max_edges_1_hop_0_5_perc\": np.max(sizes_edge_1_hop_0_5_perc),\n",
    "        \"max_edges_1_hop_1_perc\": np.max(sizes_edge_1_hop_1_perc),\n",
    "        \"mean_edges_1_hop_0_1_perc\": np.mean(sizes_edge_1_hop_0_1_perc),\n",
    "        \"mean_edges_1_hop_0_2_perc\": np.mean(sizes_edge_1_hop_0_2_perc),\n",
    "        \"mean_edges_1_hop_0_5_perc\": np.mean(sizes_edge_1_hop_0_5_perc),\n",
    "        \"mean_edges_1_hop_1_perc\": np.mean(sizes_edge_1_hop_1_perc),\n",
    "        \"median_edges_1_hop_0_1_perc\": np.median(sizes_edge_1_hop_0_1_perc),\n",
    "        \"median_edges_1_hop_0_2_perc\": np.median(sizes_edge_1_hop_0_2_perc),\n",
    "        \"median_edges_1_hop_0_5_perc\": np.median(sizes_edge_1_hop_0_5_perc),\n",
    "        \"median_edges_1_hop_1_perc\": np.median(sizes_edge_1_hop_1_perc),\n",
    "    })\n",
    "\n",
    "results = pd.DataFrame(results)\n",
    "results.to_parquet(f\".{os.sep}results{os.sep}rec-ver.parquet\")"
   ]
  },
  {
   "cell_type": "code",
   "execution_count": 98,
   "id": "193e797a-ebea-4508-bca6-69458fe52d7f",
   "metadata": {},
   "outputs": [
    {
     "data": {
      "text/plain": [
       "385100"
      ]
     },
     "execution_count": 98,
     "metadata": {},
     "output_type": "execute_result"
    }
   ],
   "source": [
    "len(nodes_data)"
   ]
  },
  {
   "cell_type": "code",
   "execution_count": 95,
   "id": "17ccef9a-7367-4f6d-babd-0eef59318a89",
   "metadata": {},
   "outputs": [],
   "source": [
    "columns_to_report = [\n",
    "    \"rectify_perc\", \"tpr_auc_1%\", \"0.1%\", \"0.2%\", \"0.5%\", \"1%\", \n",
    "    \"tpr_report_auc_1%\", \"report_0.1%\", \"report_0.2%\", \"report_0.5%\", \"report_1%\"\n",
    "]"
   ]
  },
  {
   "cell_type": "code",
   "execution_count": 97,
   "id": "dbbc0367-d6e7-4631-b73a-6c3b05506bde",
   "metadata": {},
   "outputs": [
    {
     "data": {
      "text/html": [
       "<div>\n",
       "<style scoped>\n",
       "    .dataframe tbody tr th:only-of-type {\n",
       "        vertical-align: middle;\n",
       "    }\n",
       "\n",
       "    .dataframe tbody tr th {\n",
       "        vertical-align: top;\n",
       "    }\n",
       "\n",
       "    .dataframe thead th {\n",
       "        text-align: right;\n",
       "    }\n",
       "</style>\n",
       "<table border=\"1\" class=\"dataframe\">\n",
       "  <thead>\n",
       "    <tr style=\"text-align: right;\">\n",
       "      <th></th>\n",
       "      <th>rectify_perc</th>\n",
       "      <th>tpr_auc_1%</th>\n",
       "      <th>0.1%</th>\n",
       "      <th>0.2%</th>\n",
       "      <th>0.5%</th>\n",
       "      <th>1%</th>\n",
       "      <th>tpr_report_auc_1%</th>\n",
       "      <th>report_0.1%</th>\n",
       "      <th>report_0.2%</th>\n",
       "      <th>report_0.5%</th>\n",
       "      <th>report_1%</th>\n",
       "    </tr>\n",
       "  </thead>\n",
       "  <tbody>\n",
       "    <tr>\n",
       "      <th>0</th>\n",
       "      <td>1.00</td>\n",
       "      <td>0.616798</td>\n",
       "      <td>0.363636</td>\n",
       "      <td>0.521277</td>\n",
       "      <td>0.660542</td>\n",
       "      <td>0.789168</td>\n",
       "      <td>0.679776</td>\n",
       "      <td>0.318182</td>\n",
       "      <td>0.545455</td>\n",
       "      <td>0.727273</td>\n",
       "      <td>0.954545</td>\n",
       "    </tr>\n",
       "    <tr>\n",
       "      <th>1</th>\n",
       "      <td>0.75</td>\n",
       "      <td>0.623142</td>\n",
       "      <td>0.363636</td>\n",
       "      <td>0.527079</td>\n",
       "      <td>0.670213</td>\n",
       "      <td>0.803675</td>\n",
       "      <td>0.674347</td>\n",
       "      <td>0.318182</td>\n",
       "      <td>0.545455</td>\n",
       "      <td>0.727273</td>\n",
       "      <td>0.954545</td>\n",
       "    </tr>\n",
       "    <tr>\n",
       "      <th>2</th>\n",
       "      <td>0.50</td>\n",
       "      <td>0.631676</td>\n",
       "      <td>0.372340</td>\n",
       "      <td>0.529014</td>\n",
       "      <td>0.690522</td>\n",
       "      <td>0.813346</td>\n",
       "      <td>0.658117</td>\n",
       "      <td>0.318182</td>\n",
       "      <td>0.409091</td>\n",
       "      <td>0.727273</td>\n",
       "      <td>0.954545</td>\n",
       "    </tr>\n",
       "    <tr>\n",
       "      <th>3</th>\n",
       "      <td>0.40</td>\n",
       "      <td>0.634124</td>\n",
       "      <td>0.374275</td>\n",
       "      <td>0.529014</td>\n",
       "      <td>0.696325</td>\n",
       "      <td>0.819149</td>\n",
       "      <td>0.653077</td>\n",
       "      <td>0.318182</td>\n",
       "      <td>0.409091</td>\n",
       "      <td>0.727273</td>\n",
       "      <td>0.954545</td>\n",
       "    </tr>\n",
       "    <tr>\n",
       "      <th>4</th>\n",
       "      <td>0.30</td>\n",
       "      <td>0.635920</td>\n",
       "      <td>0.370406</td>\n",
       "      <td>0.521277</td>\n",
       "      <td>0.701161</td>\n",
       "      <td>0.809478</td>\n",
       "      <td>0.636505</td>\n",
       "      <td>0.318182</td>\n",
       "      <td>0.409091</td>\n",
       "      <td>0.727273</td>\n",
       "      <td>0.954545</td>\n",
       "    </tr>\n",
       "    <tr>\n",
       "      <th>5</th>\n",
       "      <td>0.20</td>\n",
       "      <td>0.634967</td>\n",
       "      <td>0.375242</td>\n",
       "      <td>0.522244</td>\n",
       "      <td>0.703095</td>\n",
       "      <td>0.802708</td>\n",
       "      <td>0.611128</td>\n",
       "      <td>0.318182</td>\n",
       "      <td>0.318182</td>\n",
       "      <td>0.727273</td>\n",
       "      <td>0.909091</td>\n",
       "    </tr>\n",
       "    <tr>\n",
       "      <th>6</th>\n",
       "      <td>0.10</td>\n",
       "      <td>0.623023</td>\n",
       "      <td>0.372340</td>\n",
       "      <td>0.509671</td>\n",
       "      <td>0.679884</td>\n",
       "      <td>0.780464</td>\n",
       "      <td>0.585810</td>\n",
       "      <td>0.318182</td>\n",
       "      <td>0.363636</td>\n",
       "      <td>0.636364</td>\n",
       "      <td>0.772727</td>\n",
       "    </tr>\n",
       "  </tbody>\n",
       "</table>\n",
       "</div>"
      ],
      "text/plain": [
       "   rectify_perc  tpr_auc_1%      0.1%      0.2%      0.5%        1%  \\\n",
       "0          1.00    0.616798  0.363636  0.521277  0.660542  0.789168   \n",
       "1          0.75    0.623142  0.363636  0.527079  0.670213  0.803675   \n",
       "2          0.50    0.631676  0.372340  0.529014  0.690522  0.813346   \n",
       "3          0.40    0.634124  0.374275  0.529014  0.696325  0.819149   \n",
       "4          0.30    0.635920  0.370406  0.521277  0.701161  0.809478   \n",
       "5          0.20    0.634967  0.375242  0.522244  0.703095  0.802708   \n",
       "6          0.10    0.623023  0.372340  0.509671  0.679884  0.780464   \n",
       "\n",
       "   tpr_report_auc_1%  report_0.1%  report_0.2%  report_0.5%  report_1%  \n",
       "0           0.679776     0.318182     0.545455     0.727273   0.954545  \n",
       "1           0.674347     0.318182     0.545455     0.727273   0.954545  \n",
       "2           0.658117     0.318182     0.409091     0.727273   0.954545  \n",
       "3           0.653077     0.318182     0.409091     0.727273   0.954545  \n",
       "4           0.636505     0.318182     0.409091     0.727273   0.954545  \n",
       "5           0.611128     0.318182     0.318182     0.727273   0.909091  \n",
       "6           0.585810     0.318182     0.363636     0.636364   0.772727  "
      ]
     },
     "execution_count": 97,
     "metadata": {},
     "output_type": "execute_result"
    }
   ],
   "source": [
    "pd.read_parquet(f\".{os.sep}results{os.sep}iter-ver.parquet\")[columns_to_report]"
   ]
  },
  {
   "cell_type": "code",
   "execution_count": 12,
   "id": "92fc6416-908a-4a7f-ac3f-6e4ab4b2d974",
   "metadata": {},
   "outputs": [
    {
     "data": {
      "text/plain": [
       "<Axes: >"
      ]
     },
     "execution_count": 12,
     "metadata": {},
     "output_type": "execute_result"
    },
    {
     "data": {
      "image/png": "[encoded data removed]",
      "text/plain": [
       "<Figure size 640x480 with 1 Axes>"
      ]
     },
     "metadata": {},
     "output_type": "display_data"
    }
   ],
   "source": [
    "pd.DataFrame(tpr, columns=[\"tpr_auc\"]).plot()"
   ]
  },
  {
   "cell_type": "code",
   "execution_count": 14,
   "id": "fce2531b-25ba-44ee-87df-896ae964cda6",
   "metadata": {},
   "outputs": [
    {
     "data": {
      "text/plain": [
       "np.float64(8.348333333333333)"
      ]
     },
     "execution_count": 14,
     "metadata": {},
     "output_type": "execute_result"
    }
   ],
   "source": [
    "np.mean(results.iloc[0][\"sizes_1_hop_alerted\"])"
   ]
  },
  {
   "cell_type": "code",
   "execution_count": 15,
   "id": "7632e415-9383-4f36-9444-23439f6b1695",
   "metadata": {},
   "outputs": [
    {
     "data": {
      "text/plain": [
       "np.float64(6.471666666666667)"
      ]
     },
     "execution_count": 15,
     "metadata": {},
     "output_type": "execute_result"
    }
   ],
   "source": [
    "np.mean(results.iloc[-1][\"sizes_1_hop_alerted\"])"
   ]
  },
  {
   "cell_type": "code",
   "execution_count": 19,
   "id": "f00a52a0-ddba-4a33-9539-b781a9e72d22",
   "metadata": {},
   "outputs": [
    {
     "data": {
      "text/plain": [
       "np.float64(0.0029013539651837525)"
      ]
     },
     "execution_count": 19,
     "metadata": {},
     "output_type": "execute_result"
    }
   ],
   "source": [
    "results.iloc[0][\"tpr_1%\"]"
   ]
  },
  {
   "cell_type": "code",
   "execution_count": 82,
   "id": "ca6b31f8-3951-49a1-9882-ef5537c539df",
   "metadata": {},
   "outputs": [
    {
     "data": {
      "image/png": "[encoded data removed]",
      "text/plain": [
       "<Figure size 640x480 with 1 Axes>"
      ]
     },
     "metadata": {},
     "output_type": "display_data"
    }
   ],
   "source": [
    "import matplotlib.pyplot as plt\n",
    "\n",
    "fig, ax = plt.subplots()\n",
    "for index, row in pd.read_parquet(f\".{os.sep}results{os.sep}iter-ver.parquet\").iterrows():\n",
    "    if index not in [0, 6]:\n",
    "        continue\n",
    "    y = row[\"tpr_1%\"]\n",
    "    x = range(len(y))\n",
    "    perc = round(row[\"rectify_perc\"] * 100)\n",
    "    if perc == 12:\n",
    "        perc = 12.5\n",
    "    ax.plot(x, y, label=f\"{perc}%\")\n",
    "fig.legend(bbox_to_anchor=(0, 0.89, 0.28, 0))\n",
    "ax.set(xlabel=\"# nodes\", ylabel=\"[RM-2] TPR Alerts\")\n",
    "ax.grid()"
   ]
  },
  {
   "cell_type": "code",
   "execution_count": 81,
   "id": "21be48bb-3918-4ab5-9871-47f9dbc9f489",
   "metadata": {},
   "outputs": [
    {
     "data": {
      "image/png": "[encoded data removed]",
      "text/plain": [
       "<Figure size 640x480 with 1 Axes>"
      ]
     },
     "metadata": {},
     "output_type": "display_data"
    }
   ],
   "source": [
    "import matplotlib.pyplot as plt\n",
    "\n",
    "fig, ax = plt.subplots()\n",
    "for index, row in results.iterrows():\n",
    "    if index not in [0, 3]:\n",
    "        continue\n",
    "    y = row[\"tpr_1%\"]\n",
    "    x = range(len(y))\n",
    "    perc = round(row[\"rectify_perc\"] * 100)\n",
    "    if perc == 12:\n",
    "        perc = 12.5\n",
    "    ax.plot(x, y, label=f\"{perc}%\")\n",
    "fig.legend(bbox_to_anchor=(0, 0.89, 0.29, 0))\n",
    "ax.set(xlabel=\"# nodes\", ylabel=\"[RM-3] TPR Alerts\")\n",
    "ax.grid()"
   ]
  },
  {
   "cell_type": "code",
   "execution_count": null,
   "id": "233d99d4-4630-4640-a1f9-3dda13e130b6",
   "metadata": {},
   "outputs": [],
   "source": []
  }
 ],
 "metadata": {
  "kernelspec": {
   "display_name": "Python 3 (ipykernel)",
   "language": "python",
   "name": "python3"
  },
  "language_info": {
   "codemirror_mode": {
    "name": "ipython",
    "version": 3
   },
   "file_extension": ".py",
   "mimetype": "text/x-python",
   "name": "python",
   "nbconvert_exporter": "python",
   "pygments_lexer": "ipython3",
   "version": "3.11.8"
  }
 },
 "nbformat": 4,
 "nbformat_minor": 5
}
