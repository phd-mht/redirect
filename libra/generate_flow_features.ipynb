{
 "cells": [
  {
   "cell_type": "code",
   "execution_count": null,
   "id": "945d95e6-ad47-4c78-9da3-4387ea8610cf",
   "metadata": {},
   "outputs": [],
   "source": [
    "data_agg = (\n",
    "    data_input.groupby([\"source\", \"target\"])\n",
    "    .agg(\n",
    "        sf.sum(\"amount\").alias(\"amount\")\n",
    "    )\n",
    ").toPandas()\n",
    "data_agg.loc[:, \"amount\"] = np.ceil(data_agg.loc[:, \"amount\"])\n",
    "data_agg = data_agg.astype({\"amount\": np.uint64})\n",
    "data_agg = data_agg.sort_values(\"amount\", ascending=False).reset_index(drop=True)"
   ]
  },
  {
   "cell_type": "code",
   "execution_count": null,
   "id": "21b0b0ed-bb7c-46ea-aff8-542335fe9e95",
   "metadata": {},
   "outputs": [],
   "source": [
    "totals_sent = data_agg.groupby(\"source\").agg({\"amount\": \"sum\"})[\"amount\"].to_dict()\n",
    "totals_received = data_agg.groupby(\"target\").agg({\"amount\": \"sum\"})[\"amount\"].to_dict()"
   ]
  },
  {
   "cell_type": "code",
   "execution_count": null,
   "id": "ada7c627-1d78-4c2b-be10-934c35c05710",
   "metadata": {},
   "outputs": [],
   "source": [
    "def get_communities(top_n, n_hops, data_input, pov, cp, totals, to_check_in):\n",
    "    if not(0 < n_hops < 11):\n",
    "        raise NotImplementedError\n",
    "    if top_n < 1:\n",
    "        raise ValueError\n",
    "    \n",
    "    result = []\n",
    "    \n",
    "    data_input = data_input.loc[data_input[\"source\"] != data_input[\"target\"], :].reset_index(drop=True)\n",
    "    level_1st = data_input[data_input[pov].isin(to_check_in)].groupby(pov).head(top_n).reset_index(drop=True)\n",
    "    level_1st.loc[:, \"amount\"] = np.array(\n",
    "        [\n",
    "            level_1st.loc[:, pov].apply(lambda x: totals[x]).values, \n",
    "            level_1st.loc[:, \"amount\"].values\n",
    "        ],\n",
    "        dtype=np.uint64\n",
    "    ).min(axis=0)\n",
    "    level_1st = level_1st.sort_values(\"amount\", ascending=False)\n",
    "    level_1st_comms = level_1st.groupby(pov).agg(nodes=(cp, list), amounts=(\"amount\", list))\n",
    "    level_1st_comms = level_1st_comms.apply(lambda x: dict(zip(x[\"nodes\"], x[\"amounts\"])), axis=1).to_dict()\n",
    "    print(f\"Processed hop #1 | {level_1st.shape[0]:,} | {len(level_1st_comms):,}\")\n",
    "    \n",
    "    result.append(level_1st_comms)\n",
    "\n",
    "    for n_hop in range(1, n_hops):\n",
    "        if n_hop == 1:\n",
    "            n_minus_1 = level_1st.copy(deep=True)\n",
    "        else:\n",
    "            n_minus_1 = level_nth.copy(deep=True)\n",
    "        level_nth = n_minus_1.set_index(cp).join(\n",
    "            level_1st.set_index(pov), lsuffix=\"_left\", how=\"inner\"\n",
    "        ).reset_index(drop=True)\n",
    "        level_nth = level_nth.loc[level_nth[\"source\"] != level_nth[\"target\"], :].reset_index(drop=True)\n",
    "        level_nth.loc[:, \"amount\"] = level_nth[[\"amount_left\", \"amount\"]].min(axis=1)\n",
    "        del level_nth[\"amount_left\"]\n",
    "        level_nth = level_nth.groupby([pov, cp]).agg(amount=(\"amount\", \"sum\")).reset_index()\n",
    "        level_nth.loc[:, \"amount\"] = np.array(\n",
    "            [\n",
    "                level_nth.loc[:, pov].apply(lambda x: totals[x]).values, \n",
    "                level_nth.loc[:, \"amount\"].values\n",
    "            ],\n",
    "            dtype=np.uint64\n",
    "        ).min(axis=0)\n",
    "        level_nth = level_nth.sort_values(\"amount\", ascending=False).reset_index(drop=True)\n",
    "        level_nth = level_nth.groupby(pov).head(top_n).reset_index(drop=True)\n",
    "        level_nth_comms = level_nth.groupby(pov).agg(nodes=(cp, list), amounts=(\"amount\", list))\n",
    "        level_nth_comms = level_nth_comms.apply(lambda x: dict(zip(x[\"nodes\"], x[\"amounts\"])), axis=1).to_dict()\n",
    "        print(f\"Processed hop #{n_hop + 1} | {level_nth.shape[0]:,} | {len(level_nth_comms):,}\")\n",
    "\n",
    "        result.append(level_nth_comms)\n",
    "    \n",
    "    del level_1st\n",
    "    del n_minus_1\n",
    "    \n",
    "    return result"
   ]
  },
  {
   "cell_type": "code",
   "execution_count": null,
   "id": "0153c715-8699-4abf-9e1b-99949d37bc3f",
   "metadata": {},
   "outputs": [],
   "source": [
    "print(\"\\nProcessing comm_as_source\\n\")\n",
    "comm_as_source = get_communities(TOP_N, NUM_HOPS, data_agg, \"source\", \"target\", totals_sent, nodes_source)"
   ]
  },
  {
   "cell_type": "code",
   "execution_count": null,
   "id": "cfd484ee-cf34-466c-980c-f1d4978a57e7",
   "metadata": {},
   "outputs": [],
   "source": [
    "print(\"\\nProcessing comm_as_target\\n\")\n",
    "comm_as_target = get_communities(TOP_N, NUM_HOPS, data_agg, \"target\", \"source\", totals_received, nodes_target)"
   ]
  },
  {
   "cell_type": "code",
   "execution_count": null,
   "id": "177aeb50-c10d-47d9-86c1-8d33ace73688",
   "metadata": {},
   "outputs": [],
   "source": [
    "print(\"\\nProcessing comm_as_passthrough\\n\")\n",
    "comm_as_passthrough = get_communities(\n",
    "    TOP_N, NUM_HOPS, data_agg.loc[data_agg[\"source\"].isin(nodes_passthrough), :], \"source\", \"target\", \n",
    "    totals_received, nodes_passthrough\n",
    ")"
   ]
  },
  {
   "cell_type": "code",
   "execution_count": null,
   "id": "8cb39d7f-832b-4baa-9e18-ffc2b0863430",
   "metadata": {},
   "outputs": [],
   "source": [
    "print(\"\\nProcessing comm_as_passthrough_reverse\\n\")\n",
    "comm_as_passthrough_reverse = get_communities(\n",
    "    TOP_N, NUM_HOPS, data_agg.loc[data_agg[\"target\"].isin(nodes_passthrough), :], \"target\", \"source\", \n",
    "    totals_sent, nodes_passthrough\n",
    ")\n",
    "print()"
   ]
  },
  {
   "cell_type": "code",
   "execution_count": null,
   "id": "21cab5ee-f605-4b76-bf4c-95450c98d39c",
   "metadata": {},
   "outputs": [],
   "source": [
    "def construct_global_features(input_data, input_nodes, totals):\n",
    "    results = []\n",
    "    for node in input_nodes.intersection(input_data[0].keys()):\n",
    "        all_nodes = set()\n",
    "        node_comm_stats = {\"key\": node}\n",
    "        for index, comms in enumerate(input_data):\n",
    "            n_hop = index + 1\n",
    "            # node_comm_stats[f\"hop_{n_hop}_number_of_accounts\"] = 0\n",
    "            # if index:\n",
    "            #     node_comm_stats[f\"hop_{n_hop}_number_of_distinct_accounts\"] = 0\n",
    "            #     node_comm_stats[f\"hop_{n_hop}_number_of_new_accounts\"] = 0\n",
    "            # node_comm_stats[f\"hop_{n_hop}_max_transferred\"] = 0\n",
    "            # node_comm_stats[f\"hop_{n_hop}_mean_transferred\"] = 0\n",
    "            # node_comm_stats[f\"hop_{n_hop}_median_transferred\"] = 0\n",
    "            # node_comm_stats[f\"hop_{n_hop}_std_transferred\"] = 0\n",
    "            if not comms.get(node):\n",
    "                continue\n",
    "            nodes_community, amounts_community = zip(*comms[node].items())\n",
    "            if not index:\n",
    "                sum_prev = totals[node] or 1\n",
    "            else:\n",
    "                sum_prev = sum(input_data[index - 1][node].values()) or 1\n",
    "            sum_prev = min([totals[node], sum_prev])\n",
    "            amounts_community_adjusted = np.array(amounts_community, dtype=np.float64)\n",
    "            amounts_community_adjusted /= sum_prev\n",
    "            amounts_community_adjusted[amounts_community_adjusted > 1] = 1\n",
    "            sum_this = sum(comms[node].values())\n",
    "            perc_transferred = (sum_this / sum_prev) if sum_prev > sum_this else 1\n",
    "            amounts_community_adjusted *= perc_transferred\n",
    "            number_of_new_accounts = len(set(nodes_community) - all_nodes)\n",
    "            all_nodes = all_nodes.union(nodes_community)\n",
    "            # node_comm_stats[f\"hop_{n_hop}_number_of_accounts\"] = len(nodes_community)\n",
    "            # if index:\n",
    "            #     node_comm_stats[f\"hop_{n_hop}_number_of_distinct_accounts\"] = len(all_nodes)\n",
    "            #     node_comm_stats[f\"hop_{n_hop}_number_of_new_accounts\"] = number_of_new_accounts\n",
    "            # node_comm_stats[f\"hop_{n_hop}_max_transferred\"] = np.max(amounts_community_adjusted)\n",
    "            # node_comm_stats[f\"hop_{n_hop}_mean_transferred\"] = np.mean(amounts_community_adjusted)\n",
    "            # node_comm_stats[f\"hop_{n_hop}_median_transferred\"] = np.median(amounts_community_adjusted)\n",
    "            node_comm_stats[f\"hop_{n_hop}_max_transferred_act\"] = np.nanmax(amounts_community)\n",
    "            node_comm_stats[f\"hop_{n_hop}_std_transferred_act\"] = np.nanstd(amounts_community)\n",
    "            node_comm_stats[f\"hop_{n_hop}_std_transferred_adj\"] = np.nanstd(amounts_community_adjusted)\n",
    "            # node_comm_stats[f\"hop_{n_hop}_skew_transferred\"] = stats.skew(amounts_community_adjusted)\n",
    "            # node_comm_stats[f\"hop_{n_hop}_kurtosis_transferred\"] = stats.kurtosis(amounts_community_adjusted)\n",
    "        results.append(node_comm_stats)\n",
    "\n",
    "    return pd.DataFrame(results)"
   ]
  },
  {
   "cell_type": "code",
   "execution_count": null,
   "id": "f1ed78fd-8a2a-41bd-8908-b73835a59247",
   "metadata": {},
   "outputs": [],
   "source": [
    "%%time\n",
    "\n",
    "print(\"\\ncomm_as_source_features\\n\")\n",
    "comm_as_source_features = construct_global_features(comm_as_source, nodes_source, totals_sent)\n",
    "del comm_as_source"
   ]
  },
  {
   "cell_type": "code",
   "execution_count": null,
   "id": "4ec56cd2-0b7f-42b5-a2da-a1a29178cd24",
   "metadata": {},
   "outputs": [],
   "source": [
    "%%time\n",
    "\n",
    "print(\"\\ncomm_as_target_features\\n\")\n",
    "comm_as_target_features = construct_global_features(comm_as_target, nodes_target, totals_received)\n",
    "del comm_as_target"
   ]
  },
  {
   "cell_type": "code",
   "execution_count": null,
   "id": "9fb95904-1c97-4442-9400-82f4980a4c79",
   "metadata": {},
   "outputs": [],
   "source": [
    "%%time\n",
    "\n",
    "print(\"\\ncomm_as_passthrough_features\\n\")\n",
    "comm_as_passthrough_features = construct_global_features(\n",
    "    comm_as_passthrough, nodes_passthrough, totals_received\n",
    ")\n",
    "del comm_as_passthrough"
   ]
  },
  {
   "cell_type": "code",
   "execution_count": null,
   "id": "28a12aec-2369-442b-b1c8-37bff8f90cd6",
   "metadata": {},
   "outputs": [],
   "source": [
    "%%time\n",
    "\n",
    "print(\"\\ncomm_as_passthrough_features_reverse\\n\")\n",
    "comm_as_passthrough_features_reverse = construct_global_features(\n",
    "    comm_as_passthrough_reverse, nodes_passthrough, totals_sent\n",
    ")\n",
    "del comm_as_passthrough_reverse"
   ]
  },
  {
   "cell_type": "code",
   "execution_count": null,
   "id": "2836cd53-b001-481c-ae52-103e5b798531",
   "metadata": {},
   "outputs": [],
   "source": [
    "print(\"\\n\")\n",
    "comm_as_source_features.set_index(\"key\", inplace=True)\n",
    "comm_as_target_features.set_index(\"key\", inplace=True)\n",
    "comm_as_passthrough_features.set_index(\"key\", inplace=True)\n",
    "comm_as_passthrough_features_reverse.set_index(\"key\", inplace=True)"
   ]
  },
  {
   "cell_type": "code",
   "execution_count": null,
   "id": "dcd680f8-553d-4dbd-ad42-959b6b2d3fff",
   "metadata": {},
   "outputs": [],
   "source": [
    "comm_as_source_features.columns = [f\"{s.G_GLOB_PREFIX}{x}\" for x in comm_as_source_features.columns]\n",
    "comm_as_target_features.columns = [f\"{s.G_GLOB_PREFIX}{x}\" for x in comm_as_target_features.columns]\n",
    "comm_as_passthrough_features.columns = [f\"{s.G_GLOB_PREFIX}{x}\" for x in comm_as_passthrough_features.columns]\n",
    "comm_as_passthrough_features_reverse.columns = [f\"{s.G_GLOB_PREFIX}{x}\" for x in comm_as_passthrough_features_reverse.columns]"
   ]
  }
 ],
 "metadata": {
  "kernelspec": {
   "display_name": "Python 3 (ipykernel)",
   "language": "python",
   "name": "python3"
  },
  "language_info": {
   "codemirror_mode": {
    "name": "ipython",
    "version": 3
   },
   "file_extension": ".py",
   "mimetype": "text/x-python",
   "name": "python",
   "nbconvert_exporter": "python",
   "pygments_lexer": "ipython3",
   "version": "3.11.8"
  }
 },
 "nbformat": 4,
 "nbformat_minor": 5
}
